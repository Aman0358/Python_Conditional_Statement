{
 "cells": [
  {
   "cell_type": "code",
   "execution_count": 28,
   "id": "9a129466-ab6b-45f1-b9ac-a4067bf268ef",
   "metadata": {},
   "outputs": [
    {
     "name": "stdout",
     "output_type": "stream",
     "text": [
      "1\n",
      "2\n",
      "3\n",
      "4\n",
      "5\n",
      "6\n",
      "7\n",
      "8\n",
      "9\n",
      "10\n"
     ]
    }
   ],
   "source": [
    "# For Loop:\n",
    "# 1. Write a Python program to print numbers from 1 to 10 using a for loop.\n",
    "for i in range(1,11):\n",
    "    print(i)\n"
   ]
  },
  {
   "cell_type": "code",
   "execution_count": 29,
   "id": "d4d9cd91-440a-43fa-9b6c-8658a7f90143",
   "metadata": {},
   "outputs": [
    {
     "name": "stdout",
     "output_type": "stream",
     "text": [
      "1\n",
      "2\n",
      "3\n",
      "4\n",
      "5\n",
      "1\n",
      "2\n",
      "3\n",
      "4\n",
      "5\n"
     ]
    }
   ],
   "source": [
    "# 2. Explain the difference between a for loop and a while loop in Python.\n",
    "# For Loop Example:\n",
    "numbers = [1, 2, 3, 4, 5]\n",
    "for num in numbers:\n",
    "    print(num)\n",
    "# In this for loop, we iterate through the numbers list, and the loop variable num takes on each value in the list during each iteration.\n",
    "\n",
    "# While Loop Example:\n",
    "count = 1\n",
    "while count <= 5:\n",
    "    print(count)\n",
    "    count += 1\n",
    "# In this while loop, we start with count equal to 1 and keep incrementing it until it becomes greater than 5. The loop continues as long as the condition count <= 5 is True."
   ]
  },
  {
   "cell_type": "code",
   "execution_count": 31,
   "id": "1778d881-12bc-4b2c-a479-139b0ca2d2d1",
   "metadata": {},
   "outputs": [
    {
     "name": "stdout",
     "output_type": "stream",
     "text": [
      "Sum of numbers from 1 to 100 is 5050\n"
     ]
    }
   ],
   "source": [
    "# 3. Write a Python program to calculate the sum of all numbers from 1 to 100 using a for loop.\n",
    "print(\"Sum of numbers from 1 to 100 is\", sum(range(1,101)))\n"
   ]
  },
  {
   "cell_type": "code",
   "execution_count": 32,
   "id": "724f7090-a76f-46f4-b5d6-8d4c57952c6b",
   "metadata": {},
   "outputs": [
    {
     "name": "stdout",
     "output_type": "stream",
     "text": [
      "apple\n",
      "banana\n",
      "cherry\n",
      "date\n"
     ]
    }
   ],
   "source": [
    "# 4. How do you iterate through a list using a for loop in Python?\n",
    "\n",
    "fruits = [\"apple\", \"banana\", \"cherry\", \"date\"]\n",
    "\n",
    "for fruit in fruits:\n",
    "    print(fruit)\n"
   ]
  },
  {
   "cell_type": "code",
   "execution_count": 33,
   "id": "f3587b4f-0e17-4032-a48c-1de3b0ff954c",
   "metadata": {},
   "outputs": [
    {
     "name": "stdout",
     "output_type": "stream",
     "text": [
      "The product of all elements in the list is: 720\n"
     ]
    }
   ],
   "source": [
    "# 5. Write a Python program to find the product of all elements in a list using a for loop.\n",
    "# Initialize a variable to store the product, starting with 1\n",
    "product = 1\n",
    "\n",
    "# List of numbers\n",
    "numbers = [2, 3, 4, 5, 6]\n",
    "\n",
    "# Use a for loop to iterate through the list and calculate the product\n",
    "for num in numbers:\n",
    "    product *= num\n",
    "\n",
    "# Print the result\n",
    "print(\"The product of all elements in the list is:\", product)\n"
   ]
  },
  {
   "cell_type": "code",
   "execution_count": 34,
   "id": "781bddeb-7b5d-4382-a26c-7c955b8b1e99",
   "metadata": {},
   "outputs": [
    {
     "name": "stdout",
     "output_type": "stream",
     "text": [
      "2\n",
      "4\n",
      "6\n",
      "8\n",
      "10\n",
      "12\n",
      "14\n",
      "16\n",
      "18\n",
      "20\n"
     ]
    }
   ],
   "source": [
    "# 6. Create a Python program that prints all even numbers from 1 to 20 using a for loop.\n",
    "for numbers in range(1,21):\n",
    "    if numbers % 2 == 0:\n",
    "        print(numbers)\n",
    "    "
   ]
  },
  {
   "cell_type": "code",
   "execution_count": 35,
   "id": "02b70f24-08f4-4bb6-bb2a-e9d5c7c6bbd2",
   "metadata": {},
   "outputs": [
    {
     "name": "stdin",
     "output_type": "stream",
     "text": [
      "Enter a number:  6\n"
     ]
    },
    {
     "name": "stdout",
     "output_type": "stream",
     "text": [
      "The factorial of 6 is 720\n"
     ]
    }
   ],
   "source": [
    "# 7. Write a Python program that calculates the factorial of a number using a for loop.\n",
    "# Input: Get the number for which you want to calculate the factorial\n",
    "num = int(input(\"Enter a number: \"))\n",
    "\n",
    "# Initialize a variable to store the factorial, starting with 1\n",
    "factorial = 1\n",
    "\n",
    "# Use a for loop to calculate the factorial\n",
    "for i in range(1, num + 1):\n",
    "    factorial *= i\n",
    "\n",
    "# Print the result\n",
    "print(f\"The factorial of {num} is {factorial}\")\n"
   ]
  },
  {
   "cell_type": "code",
   "execution_count": 36,
   "id": "c6c4eb1e-bb7f-4d18-92a8-ac03495bdac5",
   "metadata": {},
   "outputs": [
    {
     "name": "stdout",
     "output_type": "stream",
     "text": [
      "H\n",
      "e\n",
      "l\n",
      "l\n",
      "o\n",
      ",\n",
      " \n",
      "W\n",
      "o\n",
      "r\n",
      "l\n",
      "d\n",
      "!\n"
     ]
    }
   ],
   "source": [
    "# 8. How can you iterate through the characters of a string using a for loop in Python?\n",
    "# Define a string\n",
    "my_string = \"Hello, World!\"\n",
    "\n",
    "# Use a for loop to iterate through the characters of the string\n",
    "for char in my_string:\n",
    "    print(char)\n"
   ]
  },
  {
   "cell_type": "code",
   "execution_count": 37,
   "id": "6e7dc4c5-e3ac-44c9-8d71-67f300e58f1d",
   "metadata": {},
   "outputs": [
    {
     "name": "stdout",
     "output_type": "stream",
     "text": [
      "The largest number in the list is: 545\n"
     ]
    }
   ],
   "source": [
    "# 9. Write a Python program to find the largest number in a list using a for loop.\n",
    "# List of numbers\n",
    "numbers = [10, 55, 545, 68, 92, 85]\n",
    "\n",
    "# Initialize a variable to store the largest number, starting with the first number in the list\n",
    "largest = numbers[0]\n",
    "\n",
    "# Use a for loop to find the largest number\n",
    "for num in numbers:\n",
    "    if num > largest:\n",
    "        largest = num\n",
    "\n",
    "# Print the result\n",
    "print(\"The largest number in the list is:\", largest)\n"
   ]
  },
  {
   "cell_type": "code",
   "execution_count": 38,
   "id": "4b1644f0-20c2-4d5b-b215-b32e396c0c9e",
   "metadata": {},
   "outputs": [
    {
     "name": "stdin",
     "output_type": "stream",
     "text": [
      "Enter the limit for the Fibonacci sequence:  9\n"
     ]
    },
    {
     "name": "stdout",
     "output_type": "stream",
     "text": [
      "Fibonacci sequence up to the limit:\n",
      "0\n",
      "1\n",
      "1\n",
      "2\n",
      "3\n",
      "5\n",
      "8\n"
     ]
    }
   ],
   "source": [
    "# 10. Create a Python program that prints the Fibonacci sequence up to a specified limit using a for loop.\n",
    "# Input: Get the limit for the Fibonacci sequence from the user\n",
    "limit = int(input(\"Enter the limit for the Fibonacci sequence: \"))\n",
    "\n",
    "# Initialize the first two Fibonacci numbers\n",
    "fibonacci_sequence = [0, 1]\n",
    "\n",
    "# Use a for loop to generate the Fibonacci sequence up to the specified limit\n",
    "for i in range(2, limit):\n",
    "    next_fibonacci = fibonacci_sequence[-1] + fibonacci_sequence[-2]\n",
    "    if next_fibonacci > limit:\n",
    "        break\n",
    "    fibonacci_sequence.append(next_fibonacci)\n",
    "\n",
    "# Print the Fibonacci sequence\n",
    "print(\"Fibonacci sequence up to the limit:\")\n",
    "for number in fibonacci_sequence:\n",
    "    print(number)\n"
   ]
  },
  {
   "cell_type": "code",
   "execution_count": 39,
   "id": "abbf0a71-f87b-4952-bb23-1c69c8c14f1b",
   "metadata": {},
   "outputs": [
    {
     "name": "stdin",
     "output_type": "stream",
     "text": [
      "Enter a string:  Hello\n"
     ]
    },
    {
     "name": "stdout",
     "output_type": "stream",
     "text": [
      "The number of vowels in the string is: 2\n"
     ]
    }
   ],
   "source": [
    "# 11. Write a Python program to count the number of vowels in a given string using a for loop.\n",
    "# Input: Get the string from the user\n",
    "input_string = input(\"Enter a string: \")\n",
    "\n",
    "# Initialize a variable to store the vowel count\n",
    "vowel_count = 0\n",
    "\n",
    "# Define a set of vowels (both uppercase and lowercase)\n",
    "vowels = \"AEIOUaeiou\"\n",
    "\n",
    "# Use a for loop to iterate through each character in the string\n",
    "for char in input_string:\n",
    "    # Check if the character is a vowel\n",
    "    if char in vowels:\n",
    "        vowel_count += 1\n",
    "\n",
    "# Print the vowel count\n",
    "print(\"The number of vowels in the string is:\", vowel_count)\n"
   ]
  },
  {
   "cell_type": "code",
   "execution_count": 41,
   "id": "e4129afd-9d2b-4a8f-9d8d-66e1dcfa0fc3",
   "metadata": {},
   "outputs": [
    {
     "name": "stdin",
     "output_type": "stream",
     "text": [
      "Enter a number:  3\n",
      "Enter the range for the multiplication table (e.g., 1 to 10):  10\n"
     ]
    },
    {
     "name": "stdout",
     "output_type": "stream",
     "text": [
      "Multiplication table for 3 from 1 to 10:\n",
      "3 x 1 = 3\n",
      "3 x 2 = 6\n",
      "3 x 3 = 9\n",
      "3 x 4 = 12\n",
      "3 x 5 = 15\n",
      "3 x 6 = 18\n",
      "3 x 7 = 21\n",
      "3 x 8 = 24\n",
      "3 x 9 = 27\n",
      "3 x 10 = 30\n"
     ]
    }
   ],
   "source": [
    "# 12.Create a Python program that generates a multiplication table for a given number using a for loop.\n",
    "# Input: Get the number for which you want to generate the multiplication table\n",
    "number = int(input(\"Enter a number: \"))\n",
    "\n",
    "# Input: Get the range of multiplication (e.g., from 1 to 10)\n",
    "range_limit = int(input(\"Enter the range for the multiplication table (e.g., 1 to 10): \"))\n",
    "\n",
    "# Use a for loop to generate and print the multiplication table\n",
    "print(f\"Multiplication table for {number} from 1 to {range_limit}:\")\n",
    "\n",
    "for i in range(1, range_limit + 1):\n",
    "    product = number * i\n",
    "    print(f\"{number} x {i} = {product}\")\n"
   ]
  },
  {
   "cell_type": "code",
   "execution_count": 42,
   "id": "6876db3e-1006-4bce-a126-1b9319b82a37",
   "metadata": {},
   "outputs": [
    {
     "name": "stdin",
     "output_type": "stream",
     "text": [
      "Enter a list of elements (comma-separated):  2, 5, 6, 8\n"
     ]
    },
    {
     "name": "stdout",
     "output_type": "stream",
     "text": [
      "Reversed List: ['8', '6', '5', '2']\n"
     ]
    }
   ],
   "source": [
    "# 13. Write a Python program to reverse a list using a for loop.\n",
    "# Input: Get a list of elements from the user\n",
    "elements = input(\"Enter a list of elements (comma-separated): \").split(',')\n",
    "\n",
    "# Convert input elements to a list (removing leading/trailing whitespace)\n",
    "elements = [element.strip() for element in elements]\n",
    "\n",
    "# Initialize an empty list to store the reversed elements\n",
    "reversed_list = []\n",
    "\n",
    "# Use a for loop to reverse the list\n",
    "for i in range(len(elements) - 1, -1, -1):\n",
    "    reversed_list.append(elements[i])\n",
    "\n",
    "# Print the reversed list\n",
    "print(\"Reversed List:\", reversed_list)\n"
   ]
  },
  {
   "cell_type": "code",
   "execution_count": 43,
   "id": "6c186d3d-8b2b-46de-98db-03fdf3ab325a",
   "metadata": {},
   "outputs": [
    {
     "name": "stdin",
     "output_type": "stream",
     "text": [
      "Enter the first list of elements (comma-separated):  1, 3, 4, 5, 5, 6\n",
      "Enter the second list of elements (comma-separated):  2, 7, 4, 8, 5, 9\n"
     ]
    },
    {
     "name": "stdout",
     "output_type": "stream",
     "text": [
      "Common elements between the two lists: ['4', '5', '5']\n"
     ]
    }
   ],
   "source": [
    "# 14.Write a Python program to find the common elements between two lists using a for loop.\n",
    "# Input: Get two lists of elements from the user\n",
    "list1 = input(\"Enter the first list of elements (comma-separated): \").split(',')\n",
    "list2 = input(\"Enter the second list of elements (comma-separated): \").split(',')\n",
    "\n",
    "# Convert input elements to lists (removing leading/trailing whitespace)\n",
    "list1 = [element.strip() for element in list1]\n",
    "list2 = [element.strip() for element in list2]\n",
    "\n",
    "# Initialize an empty list to store the common elements\n",
    "common_elements = []\n",
    "\n",
    "# Use a for loop to find the common elements\n",
    "for element in list1:\n",
    "    if element in list2:\n",
    "        common_elements.append(element)\n",
    "\n",
    "# Print the common elements\n",
    "print(\"Common elements between the two lists:\", common_elements)\n",
    " "
   ]
  },
  {
   "cell_type": "code",
   "execution_count": 44,
   "id": "fff2e284-5bfe-418d-9d31-43dddee77235",
   "metadata": {},
   "outputs": [
    {
     "name": "stdout",
     "output_type": "stream",
     "text": [
      "Key: name, Value: John\n",
      "Key: age, Value: 30\n",
      "Key: city, Value: New York\n"
     ]
    }
   ],
   "source": [
    "# 15.Explain how to use a for loop to iterate through the keys and values of a dictionary in Python.\n",
    " # Define a dictionary\n",
    "my_dict = {'name': 'John', 'age': 30, 'city': 'New York'}\n",
    "\n",
    "# Iterate through keys and values using a for loop\n",
    "for key, value in my_dict.items():\n",
    "    print(f'Key: {key}, Value: {value}')\n"
   ]
  },
  {
   "cell_type": "code",
   "execution_count": 46,
   "id": "f55880ea-09ef-4bbe-b2b4-6e7521fbdc48",
   "metadata": {},
   "outputs": [
    {
     "name": "stdin",
     "output_type": "stream",
     "text": [
      "Enter the first number:  84\n",
      "Enter the second number:  36\n"
     ]
    },
    {
     "name": "stdout",
     "output_type": "stream",
     "text": [
      "The GCD of 84 and 36 is 12\n"
     ]
    }
   ],
   "source": [
    "# 16.Write a Python program to find the GCD (Greatest Common Divisor) of two numbers using a for loop.\n",
    "# Function to calculate the GCD of two numbers\n",
    "def gcd(a, b):\n",
    "    while b:\n",
    "        a, b = b, a % b\n",
    "    return a\n",
    "\n",
    "# Input: Get two numbers from the user\n",
    "num1 = int(input(\"Enter the first number: \"))\n",
    "num2 = int(input(\"Enter the second number: \"))\n",
    "\n",
    "# Calculate the GCD using the gcd() function\n",
    "result = gcd(num1, num2)\n",
    "\n",
    "# Print the GCD\n",
    "print(f\"The GCD of {num1} and {num2} is {result}\")\n",
    "\n",
    " "
   ]
  },
  {
   "cell_type": "code",
   "execution_count": 48,
   "id": "d3710982-8eee-4196-8c6a-107822720d9d",
   "metadata": {},
   "outputs": [
    {
     "name": "stdin",
     "output_type": "stream",
     "text": [
      "Enter a string:  madam\n"
     ]
    },
    {
     "name": "stdout",
     "output_type": "stream",
     "text": [
      "The string is a palindrome.\n"
     ]
    }
   ],
   "source": [
    "# 17.Create a Python program that checks if a string is a palindrome using a for loop.\n",
    "# Input: Get the string from the user\n",
    "input_string = input(\"Enter a string: \")\n",
    "\n",
    "# Remove whitespace and convert to lowercase for case-insensitive comparison\n",
    "input_string = input_string.replace(\" \", \"\").lower()\n",
    "\n",
    "# Initialize a variable to store the flag indicating whether it's a palindrome\n",
    "is_palindrome = True\n",
    "\n",
    "# Use a for loop to check if the string is a palindrome\n",
    "for i in range(len(input_string) // 2):\n",
    "    if input_string[i] != input_string[-(i + 1)]:\n",
    "        is_palindrome = False\n",
    "        break\n",
    "\n",
    "# Print the result\n",
    "if is_palindrome:\n",
    "    print(\"The string is a palindrome.\")\n",
    "else:\n",
    "    print(\"The string is not a palindrome.\")\n"
   ]
  },
  {
   "cell_type": "code",
   "execution_count": 1,
   "id": "3f09b980-7778-4859-9ff9-b2c794dcdad3",
   "metadata": {},
   "outputs": [
    {
     "name": "stdin",
     "output_type": "stream",
     "text": [
      "Enter a list of elements (comma-separated):  1, 2, 4, 4, 5, 6\n"
     ]
    },
    {
     "name": "stdout",
     "output_type": "stream",
     "text": [
      "List with duplicates removed: ['1', '2', '4', '5', '6']\n"
     ]
    }
   ],
   "source": [
    "# 18. Write a Python program to remove duplicates from a list using a for loop.\n",
    "# Input: Get a list of elements from the user\n",
    "elements = input(\"Enter a list of elements (comma-separated): \").split(',')\n",
    "\n",
    "# Convert input elements to a list (removing leading/trailing whitespace)\n",
    "elements = [element.strip() for element in elements]\n",
    "\n",
    "# Initialize an empty list to store unique elements\n",
    "unique_elements = []\n",
    "\n",
    "# Use a for loop to remove duplicates from the list\n",
    "for element in elements:\n",
    "    if element not in unique_elements:\n",
    "        unique_elements.append(element)\n",
    "\n",
    "# Print the list with duplicates removed\n",
    "print(\"List with duplicates removed:\", unique_elements)\n"
   ]
  },
  {
   "cell_type": "code",
   "execution_count": 3,
   "id": "56f0765a-2c4e-4025-b6a2-3a8bca75f7d5",
   "metadata": {},
   "outputs": [
    {
     "name": "stdin",
     "output_type": "stream",
     "text": [
      "Enter a sentence:  Python is awesome\n"
     ]
    },
    {
     "name": "stdout",
     "output_type": "stream",
     "text": [
      "The number of words in the sentence is: 3\n"
     ]
    }
   ],
   "source": [
    "# 19. Create a Python program that counts the number of words in a sentence using a for loop.\n",
    "# Input: Get a sentence from the user\n",
    "sentence = input(\"Enter a sentence: \")\n",
    "\n",
    "# Initialize a variable to store the word count\n",
    "word_count = 0\n",
    "\n",
    "# Use a for loop to count the words in the sentence\n",
    "for word in sentence.split():\n",
    "    word_count += 1\n",
    "\n",
    "# Print the word count\n",
    "print(f\"The number of words in the sentence is: {word_count}\")\n"
   ]
  },
  {
   "cell_type": "code",
   "execution_count": 4,
   "id": "534ad1ed-b6d3-4c47-a8df-e2591d1bfad1",
   "metadata": {},
   "outputs": [
    {
     "name": "stdout",
     "output_type": "stream",
     "text": [
      "The sum of odd numbers from 1 to 50 is: 625\n"
     ]
    }
   ],
   "source": [
    "# 20. Write a Python program to find the sum of all odd numbers from 1 to 50 using a for loop.\n",
    "# Initialize a variable to store the sum of odd numbers, starting with 0\n",
    "odd_sum = 0\n",
    "\n",
    "# Use a for loop to iterate through numbers from 1 to 50\n",
    "for num in range(1, 51):\n",
    "    # Check if the number is odd\n",
    "    if num % 2 != 0:\n",
    "        odd_sum += num\n",
    "\n",
    "# Print the result\n",
    "print(\"The sum of odd numbers from 1 to 50 is:\", odd_sum)\n"
   ]
  },
  {
   "cell_type": "code",
   "execution_count": 5,
   "id": "d25a6c0c-ea4f-4578-8b9d-7ba9391d6473",
   "metadata": {},
   "outputs": [
    {
     "name": "stdin",
     "output_type": "stream",
     "text": [
      "Enter a year:  2013\n"
     ]
    },
    {
     "name": "stdout",
     "output_type": "stream",
     "text": [
      "2013 is not a leap year.\n"
     ]
    }
   ],
   "source": [
    "# 21. Write a Python program that checks if a given year is a leap year using a for loop.\n",
    "# Input: Get the year from the user\n",
    "year = int(input(\"Enter a year: \"))\n",
    "\n",
    "# Initialize a variable to store the leap year status (default is False)\n",
    "is_leap_year = False\n",
    "\n",
    "# Check if the year is a leap year\n",
    "if (year % 4 == 0 and year % 100 != 0) or (year % 400 == 0):\n",
    "    is_leap_year = True\n",
    "\n",
    "# Print the result\n",
    "if is_leap_year:\n",
    "    print(f\"{year} is a leap year.\")\n",
    "else:\n",
    "    print(f\"{year} is not a leap year.\")\n"
   ]
  },
  {
   "cell_type": "code",
   "execution_count": 6,
   "id": "3f3418eb-0413-4ad2-b223-9f3f5cc58516",
   "metadata": {},
   "outputs": [
    {
     "name": "stdin",
     "output_type": "stream",
     "text": [
      "Enter a number:  5\n"
     ]
    },
    {
     "name": "stdout",
     "output_type": "stream",
     "text": [
      "The square root of 5.0 is approximately 2.23606797749979\n"
     ]
    }
   ],
   "source": [
    "# 22. Create a Python program that calculates the square root of a number using a for loop.\n",
    "# Input: Get the number for which you want to calculate the square root\n",
    "number = float(input(\"Enter a number: \"))\n",
    "\n",
    "# Initialize the initial guess for the square root\n",
    "guess = number / 2.0\n",
    "\n",
    "# Specify the number of iterations (adjust as needed for accuracy)\n",
    "iterations = 10\n",
    "\n",
    "# Use a for loop to approximate the square root\n",
    "for _ in range(iterations):\n",
    "    guess = 0.5 * (guess + number / guess)\n",
    "\n",
    "# Print the result\n",
    "print(f\"The square root of {number} is approximately {guess}\")\n"
   ]
  },
  {
   "cell_type": "code",
   "execution_count": 7,
   "id": "8611b452-c9eb-43d8-94ee-64ebf5a7aa1f",
   "metadata": {},
   "outputs": [
    {
     "name": "stdin",
     "output_type": "stream",
     "text": [
      "Enter the first number:  45\n",
      "Enter the second number:  30\n"
     ]
    },
    {
     "name": "stdout",
     "output_type": "stream",
     "text": [
      "The LCM of 45 and 30 is 90\n"
     ]
    }
   ],
   "source": [
    "# 23. Write a Python program to find the LCM (Least Common Multiple) of two numbers using a for loop.\n",
    "# Function to calculate the GCD (Greatest Common Divisor)\n",
    "def gcd(a, b):\n",
    "    while b:\n",
    "        a, b = b, a % b\n",
    "    return a\n",
    "\n",
    "# Input: Get two numbers from the user\n",
    "num1 = int(input(\"Enter the first number: \"))\n",
    "num2 = int(input(\"Enter the second number: \"))\n",
    "\n",
    "# Calculate the LCM using the GCD\n",
    "lcm = (num1 * num2) // gcd(num1, num2)\n",
    "\n",
    "# Print the result\n",
    "print(f\"The LCM of {num1} and {num2} is {lcm}\")\n"
   ]
  },
  {
   "cell_type": "code",
   "execution_count": 8,
   "id": "bb6f8800-3a72-4d6a-b751-68874f185d57",
   "metadata": {},
   "outputs": [
    {
     "name": "stdin",
     "output_type": "stream",
     "text": [
      "Enter a number:  -1\n"
     ]
    },
    {
     "name": "stdout",
     "output_type": "stream",
     "text": [
      "The number is negative.\n"
     ]
    }
   ],
   "source": [
    "# If else :\n",
    "# 1. Write a Python program to check if a number is positive, negative, or zero using an if-else statement.\n",
    "# Input: Get a number from the user\n",
    "number = float(input(\"Enter a number: \"))\n",
    "\n",
    "# Check if the number is positive, negative, or zero using if-else statements\n",
    "if number > 0:\n",
    "    print(\"The number is positive.\")\n",
    "elif number < 0:\n",
    "    print(\"The number is negative.\")\n",
    "else:\n",
    "    print(\"The number is zero.\")\n"
   ]
  },
  {
   "cell_type": "code",
   "execution_count": 9,
   "id": "e71d2d2b-0499-48ec-98d1-f9571295ee3e",
   "metadata": {},
   "outputs": [
    {
     "name": "stdin",
     "output_type": "stream",
     "text": [
      "Enter a number:  5\n"
     ]
    },
    {
     "name": "stdout",
     "output_type": "stream",
     "text": [
      "5 is odd.\n"
     ]
    }
   ],
   "source": [
    "# 2. Create a Python program that checks if a given number is even or odd using an if-else statement.\n",
    "# Input: Get a number from the user\n",
    "number = int(input(\"Enter a number: \"))\n",
    "\n",
    "# Check if the number is even or odd using an if-else statement\n",
    "if number % 2 == 0:\n",
    "    print(f\"{number} is even.\")\n",
    "else:\n",
    "    print(f\"{number} is odd.\")\n"
   ]
  },
  {
   "cell_type": "code",
   "execution_count": 10,
   "id": "4edfbce5-c512-41f1-a6c3-39e4b96c4a8d",
   "metadata": {},
   "outputs": [
    {
     "name": "stdin",
     "output_type": "stream",
     "text": [
      "Enter your age:  23\n"
     ]
    },
    {
     "name": "stdout",
     "output_type": "stream",
     "text": [
      "You are an adult.\n",
      "You are eligible to vote and drink alcohol.\n"
     ]
    }
   ],
   "source": [
    "# 3. How can you use nested if-else statements in Python, and provide an example?\n",
    "# Input: Get user age\n",
    "age = int(input(\"Enter your age: \"))\n",
    "\n",
    "if age >= 18:\n",
    "    print(\"You are an adult.\")\n",
    "    if age >= 21:\n",
    "        print(\"You are eligible to vote and drink alcohol.\")\n",
    "    else:\n",
    "        print(\"You are eligible to vote but not drink alcohol.\")\n",
    "else:\n",
    "    print(\"You are a minor.\")\n",
    "\n"
   ]
  },
  {
   "cell_type": "code",
   "execution_count": 11,
   "id": "f6b8ef7c-73b6-4ef0-bb32-b9784b90f6d2",
   "metadata": {},
   "outputs": [
    {
     "name": "stdin",
     "output_type": "stream",
     "text": [
      "Enter the first number:  34\n",
      "Enter the second number:  21\n",
      "Enter the third number:  5\n"
     ]
    },
    {
     "name": "stdout",
     "output_type": "stream",
     "text": [
      "The largest number among 34.0, 21.0, and 5.0 is 34.0\n"
     ]
    }
   ],
   "source": [
    "# 4. Write a Python program to determine the largest of three numbers using if-else.\n",
    "# Input: Get three numbers from the user\n",
    "num1 = float(input(\"Enter the first number: \"))\n",
    "num2 = float(input(\"Enter the second number: \"))\n",
    "num3 = float(input(\"Enter the third number: \"))\n",
    "\n",
    "# Compare the numbers using if-else statements\n",
    "if num1 >= num2 and num1 >= num3:\n",
    "    largest = num1\n",
    "elif num2 >= num1 and num2 >= num3:\n",
    "    largest = num2\n",
    "else:\n",
    "    largest = num3\n",
    "\n",
    "# Print the result\n",
    "print(f\"The largest number among {num1}, {num2}, and {num3} is {largest}\")\n"
   ]
  },
  {
   "cell_type": "code",
   "execution_count": 14,
   "id": "6b51e3ec-5497-414f-a239-f2be6b6d5f65",
   "metadata": {},
   "outputs": [
    {
     "name": "stdin",
     "output_type": "stream",
     "text": [
      "Enter a number:  5.5\n"
     ]
    },
    {
     "name": "stdout",
     "output_type": "stream",
     "text": [
      "The absolute value of 5.5 is 5.5\n"
     ]
    }
   ],
   "source": [
    "# 5.Write a Python program that calculates the absolute value of a number using if-else.\n",
    "# Input: Get a number from the user\n",
    "number = float(input(\"Enter a number: \"))\n",
    "\n",
    "# Calculate the absolute value using if-else statements\n",
    "if number < 0:\n",
    "    absolute_value = -number\n",
    "else:\n",
    "    absolute_value = number\n",
    "\n",
    "# Print the result\n",
    "print(f\"The absolute value of {number} is {absolute_value}\")\n"
   ]
  },
  {
   "cell_type": "code",
   "execution_count": 15,
   "id": "92aee5c8-63e2-4fc1-bf74-2b8a21105e62",
   "metadata": {},
   "outputs": [
    {
     "name": "stdin",
     "output_type": "stream",
     "text": [
      "Enter a character:  B\n"
     ]
    },
    {
     "name": "stdout",
     "output_type": "stream",
     "text": [
      "The character 'b' is a consonant.\n"
     ]
    }
   ],
   "source": [
    "# 6. Create a Python program that checks if a given character is a vowel or consonant using if-else.\n",
    "# Input: Get a character from the user (assuming a single character input)\n",
    "character = input(\"Enter a character: \")\n",
    "\n",
    "# Check if the input is a single character and is a letter\n",
    "if len(character) == 1 and character.isalpha():\n",
    "    # Convert the character to lowercase to handle both cases\n",
    "    character = character.lower()\n",
    "\n",
    "    # Check if the character is a vowel\n",
    "    if character in \"aeiou\":\n",
    "        print(f\"The character '{character}' is a vowel.\")\n",
    "    else:\n",
    "        print(f\"The character '{character}' is a consonant.\")\n",
    "else:\n",
    "    print(\"Please enter a single letter character.\")\n"
   ]
  },
  {
   "cell_type": "code",
   "execution_count": 16,
   "id": "5c6aceab-ce97-46ba-81be-61f6612ac8fe",
   "metadata": {},
   "outputs": [
    {
     "name": "stdin",
     "output_type": "stream",
     "text": [
      "Enter your age:  21\n"
     ]
    },
    {
     "name": "stdout",
     "output_type": "stream",
     "text": [
      "You are eligible to vote.\n"
     ]
    }
   ],
   "source": [
    "# 7. Write a Python program to determine if a user is eligible to vote based on their age using if-else.\n",
    "# Input: Get user age\n",
    "age = int(input(\"Enter your age: \"))\n",
    "\n",
    "# Check if the user is eligible to vote using an if-else statement\n",
    "if age >= 18:\n",
    "    print(\"You are eligible to vote.\")\n",
    "else:\n",
    "    print(\"You are not eligible to vote.\")\n"
   ]
  },
  {
   "cell_type": "code",
   "execution_count": 17,
   "id": "e189a5a8-ac2d-4bc9-844e-8bc57b8645b7",
   "metadata": {},
   "outputs": [
    {
     "name": "stdin",
     "output_type": "stream",
     "text": [
      "Enter the purchase amount:  230\n"
     ]
    },
    {
     "name": "stdout",
     "output_type": "stream",
     "text": [
      "Discount Amount: $23.00\n"
     ]
    }
   ],
   "source": [
    "# 8. Create a Python program that calculates the discount amount based on the purchase amount using if-else.\n",
    "# Input: Get the purchase amount from the user\n",
    "purchase_amount = float(input(\"Enter the purchase amount: \"))\n",
    "\n",
    "# Initialize variables for discount rates\n",
    "discount_rate_1 = 0.10  # 10% discount for purchases above $100\n",
    "discount_rate_2 = 0.05  # 5% discount for purchases above $50\n",
    "\n",
    "# Initialize variable for the discount amount\n",
    "discount_amount = 0\n",
    "\n",
    "# Calculate the discount based on the purchase amount using if-else statements\n",
    "if purchase_amount > 100:\n",
    "    discount_amount = purchase_amount * discount_rate_1\n",
    "elif purchase_amount > 50:\n",
    "    discount_amount = purchase_amount * discount_rate_2\n",
    "\n",
    "# Print the discount amount\n",
    "if discount_amount > 0:\n",
    "    print(f\"Discount Amount: ${discount_amount:.2f}\")\n",
    "else:\n",
    "    print(\"No discount applied.\")\n"
   ]
  },
  {
   "cell_type": "code",
   "execution_count": 18,
   "id": "02de9aac-baca-44aa-a1b4-36b8ae9a9926",
   "metadata": {},
   "outputs": [
    {
     "name": "stdin",
     "output_type": "stream",
     "text": [
      "Enter a number:  20\n",
      "Enter the lower limit of the range:  5\n",
      "Enter the upper limit of the range:  25\n"
     ]
    },
    {
     "name": "stdout",
     "output_type": "stream",
     "text": [
      "20.0 is within the range [5.0, 25.0].\n"
     ]
    }
   ],
   "source": [
    "# 9. Write a Python program to check if a number is within a specified range using if-else.\n",
    "# Input: Get the number and the range limits from the user\n",
    "number = float(input(\"Enter a number: \"))\n",
    "lower_limit = float(input(\"Enter the lower limit of the range: \"))\n",
    "upper_limit = float(input(\"Enter the upper limit of the range: \"))\n",
    "\n",
    "# Check if the number is within the specified range using if-else statements\n",
    "if lower_limit <= number <= upper_limit:\n",
    "    print(f\"{number} is within the range [{lower_limit}, {upper_limit}].\")\n",
    "else:\n",
    "    print(f\"{number} is outside the range [{lower_limit}, {upper_limit}].\")\n"
   ]
  },
  {
   "cell_type": "code",
   "execution_count": 19,
   "id": "b5d1503d-c2d1-45c3-aa4f-9143f8d4c9c8",
   "metadata": {},
   "outputs": [
    {
     "name": "stdin",
     "output_type": "stream",
     "text": [
      "Enter the student's score:  92\n"
     ]
    },
    {
     "name": "stdout",
     "output_type": "stream",
     "text": [
      "The student's grade is A\n"
     ]
    }
   ],
   "source": [
    "# 10. Create a Python program that determines the grade of a student based on their score using if-else.\n",
    "# Input: Get the student's score from the user\n",
    "score = float(input(\"Enter the student's score: \"))\n",
    "\n",
    "# Determine the grade based on the score using if-else statements\n",
    "if 90 <= score <= 100:\n",
    "    grade = \"A\"\n",
    "elif 80 <= score < 90:\n",
    "    grade = \"B\"\n",
    "elif 70 <= score < 80:\n",
    "    grade = \"C\"\n",
    "elif 60 <= score < 70:\n",
    "    grade = \"D\"\n",
    "elif 0 <= score < 60:\n",
    "    grade = \"F\"\n",
    "else:\n",
    "    print(\"Invalid score. Please enter a score between 0 and 100.\")\n",
    "    exit()\n",
    "\n",
    "# Print the determined grade\n",
    "print(f\"The student's grade is {grade}\")\n"
   ]
  },
  {
   "cell_type": "code",
   "execution_count": 22,
   "id": "7ed74928-2203-4ab1-986c-20c646fd2cc2",
   "metadata": {},
   "outputs": [
    {
     "name": "stdin",
     "output_type": "stream",
     "text": [
      "Enter a string:  Hi\n"
     ]
    },
    {
     "name": "stdout",
     "output_type": "stream",
     "text": [
      "The string is not empty.\n"
     ]
    }
   ],
   "source": [
    "# 11. Write a Python program to check if a string is empty or not using if-else.\n",
    "# Input: Get a string from the user\n",
    "user_input = input(\"Enter a string: \")\n",
    "\n",
    "# Check if the string is empty or not using if-else statements\n",
    "if len(user_input) == 0:\n",
    "    print(\"The string is empty.\")\n",
    "else:\n",
    "    print(\"The string is not empty.\")\n"
   ]
  },
  {
   "cell_type": "code",
   "execution_count": 23,
   "id": "a4c7c31f-ddeb-457e-8fa0-5f7a7bc31bf1",
   "metadata": {},
   "outputs": [
    {
     "name": "stdin",
     "output_type": "stream",
     "text": [
      "Enter the length of the first side:  5\n",
      "Enter the length of the second side:  4\n",
      "Enter the length of the third side:  8\n"
     ]
    },
    {
     "name": "stdout",
     "output_type": "stream",
     "text": [
      "The triangle is scalene.\n"
     ]
    }
   ],
   "source": [
    "# 12. Create a Python program that identifies the type of a triangle (e.g., equilateral, isosceles, or scalene) based on input values using if-else.\n",
    "# Input: Get the lengths of the three sides of the triangle from the user\n",
    "side1 = float(input(\"Enter the length of the first side: \"))\n",
    "side2 = float(input(\"Enter the length of the second side: \"))\n",
    "side3 = float(input(\"Enter the length of the third side: \"))\n",
    "\n",
    "# Check and determine the type of triangle using if-else statements\n",
    "if side1 == side2 == side3:\n",
    "    triangle_type = \"equilateral\"\n",
    "elif side1 == side2 or side1 == side3 or side2 == side3:\n",
    "    triangle_type = \"isosceles\"\n",
    "else:\n",
    "    triangle_type = \"scalene\"\n",
    "\n",
    "# Print the determined type of triangle\n",
    "print(f\"The triangle is {triangle_type}.\")\n"
   ]
  },
  {
   "cell_type": "code",
   "execution_count": 24,
   "id": "4fe2ee3e-ad51-4c14-b1b7-0f31bc77a717",
   "metadata": {},
   "outputs": [
    {
     "name": "stdin",
     "output_type": "stream",
     "text": [
      "Enter a number (1-7) for the day of the week:  4\n"
     ]
    },
    {
     "name": "stdout",
     "output_type": "stream",
     "text": [
      "Day 4 corresponds to Wednesday.\n"
     ]
    }
   ],
   "source": [
    "# 13. Write a Python program to determine the day of the week based on a user-provided number using if-else.\n",
    "# Input: Get a number from the user (1 for Sunday, 2 for Monday, ..., 7 for Saturday)\n",
    "day_number = int(input(\"Enter a number (1-7) for the day of the week: \"))\n",
    "\n",
    "# Determine the day of the week based on the number using if-else statements\n",
    "if day_number == 1:\n",
    "    day_name = \"Sunday\"\n",
    "elif day_number == 2:\n",
    "    day_name = \"Monday\"\n",
    "elif day_number == 3:\n",
    "    day_name = \"Tuesday\"\n",
    "elif day_number == 4:\n",
    "    day_name = \"Wednesday\"\n",
    "elif day_number == 5:\n",
    "    day_name = \"Thursday\"\n",
    "elif day_number == 6:\n",
    "    day_name = \"Friday\"\n",
    "elif day_number == 7:\n",
    "    day_name = \"Saturday\"\n",
    "else:\n",
    "    day_name = \"Invalid\"\n",
    "\n",
    "# Print the determined day of the week\n",
    "if day_name != \"Invalid\":\n",
    "    print(f\"Day {day_number} corresponds to {day_name}.\")\n",
    "else:\n",
    "    print(\"Invalid input. Please enter a number between 1 and 7.\")\n"
   ]
  },
  {
   "cell_type": "code",
   "execution_count": 25,
   "id": "b6a000de-60a4-40a3-8008-0ce2e38576a9",
   "metadata": {},
   "outputs": [
    {
     "name": "stdin",
     "output_type": "stream",
     "text": [
      "Enter a year:  2017\n"
     ]
    },
    {
     "name": "stdout",
     "output_type": "stream",
     "text": [
      "2017 is not a leap year.\n"
     ]
    }
   ],
   "source": [
    "# 14. Create a Python program that checks if a given year is a leap year using both if-else and a function.\n",
    "# Function to check if a year is a leap year\n",
    "def is_leap_year(year):\n",
    "    if (year % 4 == 0 and year % 100 != 0) or (year % 400 == 0):\n",
    "        return True\n",
    "    else:\n",
    "        return False\n",
    "\n",
    "# Input: Get the year from the user\n",
    "year = int(input(\"Enter a year: \"))\n",
    "\n",
    "# Check if the year is a leap year using the is_leap_year function\n",
    "if is_leap_year(year):\n",
    "    print(f\"{year} is a leap year.\")\n",
    "else:\n",
    "    print(f\"{year} is not a leap year.\")\n"
   ]
  },
  {
   "cell_type": "code",
   "execution_count": 26,
   "id": "5663b60b-e890-4b02-88e2-7953f45c87e1",
   "metadata": {},
   "outputs": [
    {
     "name": "stdout",
     "output_type": "stream",
     "text": [
      "AssertionError: Input must be a non-negative number.\n"
     ]
    }
   ],
   "source": [
    "# 15. How do you use the \"assert\" statement in Python to add debugging checks within if-else blocks?\n",
    "# Example 1: Using assert within an if-else block\n",
    "\n",
    "# Define a function that calculates the square of a number\n",
    "def calculate_square(number):\n",
    "    assert number >= 0, \"Input must be a non-negative number.\"\n",
    "    \n",
    "    return number ** 2\n",
    "\n",
    "# Usage of the function\n",
    "try:\n",
    "    result = calculate_square(-5)\n",
    "    print(\"The square is:\", result)\n",
    "except AssertionError as e:\n",
    "    print(\"AssertionError:\", e)\n"
   ]
  },
  {
   "cell_type": "code",
   "execution_count": 27,
   "id": "c16a4e59-7f32-4460-8138-6485c80ff2f4",
   "metadata": {},
   "outputs": [
    {
     "name": "stdin",
     "output_type": "stream",
     "text": [
      "Enter your age:  56\n"
     ]
    },
    {
     "name": "stdout",
     "output_type": "stream",
     "text": [
      "You are not eligible for a senior citizen discount.\n"
     ]
    }
   ],
   "source": [
    "# 16. Create a Python program that determines the eligibility of a person for a senior citizen discount based on age using if-else.\n",
    "# Input: Get the person's age from the user\n",
    "age = int(input(\"Enter your age: \"))\n",
    "\n",
    "# Define the age threshold for a senior citizen discount\n",
    "senior_age_threshold = 60\n",
    "\n",
    "# Check if the person is eligible for a senior citizen discount using if-else statements\n",
    "if age >= senior_age_threshold:\n",
    "    print(\"You are eligible for a senior citizen discount.\")\n",
    "else:\n",
    "    print(\"You are not eligible for a senior citizen discount.\")\n"
   ]
  },
  {
   "cell_type": "code",
   "execution_count": 28,
   "id": "87b84fbd-40e0-4a5e-978d-f440e70fcd2d",
   "metadata": {},
   "outputs": [
    {
     "name": "stdin",
     "output_type": "stream",
     "text": [
      "Enter a character:  h\n"
     ]
    },
    {
     "name": "stdout",
     "output_type": "stream",
     "text": [
      "The character 'h' is lowercase.\n"
     ]
    }
   ],
   "source": [
    "# 17. Write a Python program to categorize a given character as uppercase, lowercase, or neither using if-else.\n",
    " # Input: Get a character from the user (assuming a single character input)\n",
    "character = input(\"Enter a character: \")\n",
    "\n",
    "# Check if the character is a single character letter\n",
    "if len(character) == 1 and character.isalpha():\n",
    "    # Check if the character is uppercase\n",
    "    if character.isupper():\n",
    "        print(f\"The character '{character}' is uppercase.\")\n",
    "    # Check if the character is lowercase\n",
    "    elif character.islower():\n",
    "        print(f\"The character '{character}' is lowercase.\")\n",
    "else:\n",
    "    print(\"The input is not a single letter character.\")\n"
   ]
  },
  {
   "cell_type": "code",
   "execution_count": 29,
   "id": "c42a00fc-d7b7-4f7a-9269-b88bb34c146c",
   "metadata": {},
   "outputs": [
    {
     "name": "stdin",
     "output_type": "stream",
     "text": [
      "Enter the coefficient a:  4\n",
      "Enter the coefficient b:  6\n",
      "Enter the coefficient c:  5\n"
     ]
    },
    {
     "name": "stdout",
     "output_type": "stream",
     "text": [
      "The roots are complex: -0.75 + 0.82915619758885i and -0.75 - 0.82915619758885i\n"
     ]
    }
   ],
   "source": [
    "# 18. Write a Python program to determine the roots of a quadratic equation using if-else.\n",
    "# Input: Get the coefficients of the quadratic equation (a, b, c) from the user\n",
    "a = float(input(\"Enter the coefficient a: \"))\n",
    "b = float(input(\"Enter the coefficient b: \"))\n",
    "c = float(input(\"Enter the coefficient c: \"))\n",
    "\n",
    "# Calculate the discriminant\n",
    "discriminant = b**2 - 4*a*c\n",
    "\n",
    "# Check the nature of the roots using if-else statements\n",
    "if discriminant > 0:\n",
    "    # Two distinct real roots\n",
    "    root1 = (-b + (discriminant ** 0.5)) / (2*a)\n",
    "    root2 = (-b - (discriminant ** 0.5)) / (2*a)\n",
    "    print(f\"The roots are real and distinct: {root1} and {root2}\")\n",
    "elif discriminant == 0:\n",
    "    # One real root (repeated)\n",
    "    root1 = -b / (2*a)\n",
    "    print(f\"The root is real and repeated: {root1}\")\n",
    "else:\n",
    "    # Complex roots\n",
    "    real_part = -b / (2*a)\n",
    "    imaginary_part = ((-discriminant) ** 0.5) / (2*a)\n",
    "    print(f\"The roots are complex: {real_part} + {imaginary_part}i and {real_part} - {imaginary_part}i\")\n"
   ]
  },
  {
   "cell_type": "code",
   "execution_count": 3,
   "id": "490fe226-1bbb-4cde-a75e-5022e7d41653",
   "metadata": {},
   "outputs": [
    {
     "name": "stdin",
     "output_type": "stream",
     "text": [
      "Enter a year:  2000\n"
     ]
    },
    {
     "name": "stdout",
     "output_type": "stream",
     "text": [
      "2000 is a century year.\n"
     ]
    }
   ],
   "source": [
    "# 19. Create a Python program that checks if a given year is a century year or not using if-else.\n",
    "# Input: Get the year from the user\n",
    "year = int(input(\"Enter a year: \"))\n",
    "\n",
    "# Check if the year is a century year or not using if-else statements\n",
    "if year % 100 == 0:\n",
    "    print(f\"{year} is a century year.\")\n",
    "else:\n",
    "    print(f\"{year} is not a century year.\")\n",
    "\n"
   ]
  },
  {
   "cell_type": "code",
   "execution_count": 1,
   "id": "354f84bf-3ae2-4b13-b76e-74f43b4c92ea",
   "metadata": {},
   "outputs": [
    {
     "name": "stdin",
     "output_type": "stream",
     "text": [
      "Enter a number:  144\n"
     ]
    },
    {
     "name": "stdout",
     "output_type": "stream",
     "text": [
      "144 is a perfect square.\n"
     ]
    }
   ],
   "source": [
    "# 20. Write a Python program to determine if a given number is a perfect square using if-else.\n",
    "# Input a number\n",
    "num = int(input(\"Enter a number: \"))\n",
    "\n",
    "# Check if the number is negative\n",
    "if num < 0:\n",
    "    print(\"Negative numbers are not perfect squares.\")\n",
    "else:\n",
    "    # Calculate the square root of the number\n",
    "    sqrt_num = num ** 0.5\n",
    "    \n",
    "    # Check if the square root is an integer (i.e., a perfect square)\n",
    "    if sqrt_num.is_integer():\n",
    "        print(f\"{num} is a perfect square.\")\n",
    "    else:\n",
    "        print(f\"{num} is not a perfect square.\")\n"
   ]
  },
  {
   "cell_type": "code",
   "execution_count": 3,
   "id": "2ca28ea6-8fdb-49ca-8b9d-697584a761a9",
   "metadata": {},
   "outputs": [
    {
     "name": "stdout",
     "output_type": "stream",
     "text": [
      "1\n",
      "2\n",
      "4\n",
      "5\n"
     ]
    }
   ],
   "source": [
    "# 21. Explain the purpose of the \"continue\" and \"break\" statements within if-else loops.\n",
    "# Continue Statement:\n",
    "# Purpose: The \"continue\" statement is used to skip the rest of the current iteration of a loop and move on to the next iteration.\n",
    "# Usage: It is typically used when you want to skip certain iterations based on a condition without terminating the entire loop.\n",
    "\n",
    "# Example:\n",
    "for i in range(1, 6):\n",
    "    if i == 3:\n",
    "        continue  # Skip the current iteration when i is 3\n",
    "    print(i)\n"
   ]
  },
  {
   "cell_type": "code",
   "execution_count": 4,
   "id": "e247129e-80f1-4bef-93bc-59e9d74dfeac",
   "metadata": {},
   "outputs": [
    {
     "name": "stdin",
     "output_type": "stream",
     "text": [
      "Enter 'q' to quit:  q\n"
     ]
    }
   ],
   "source": [
    "# Break Statement:\n",
    "# Purpose: The \"break\" statement is used to exit the current loop prematurely, regardless of the loop's condition.\n",
    "# Usage: It is typically used when a certain condition is met, and you want to terminate the loop early.\n",
    "# Example:\n",
    "while True:\n",
    "    user_input = input(\"Enter 'q' to quit: \")\n",
    "    if user_input == 'q':\n",
    "        break  # Exit the loop if the user enters 'q'\n",
    "    print(f\"Input received: {user_input}\")\n"
   ]
  },
  {
   "cell_type": "code",
   "execution_count": 5,
   "id": "0a15654e-b267-4d8d-9791-b121c2d46e27",
   "metadata": {},
   "outputs": [
    {
     "name": "stdin",
     "output_type": "stream",
     "text": [
      "Enter your weight in kilograms:  56\n",
      "Enter your height in meters:  1.6\n"
     ]
    },
    {
     "name": "stdout",
     "output_type": "stream",
     "text": [
      "Your BMI is: 21.87\n",
      "Category: Normal Weight\n"
     ]
    }
   ],
   "source": [
    "# 22. Create a Python program that calculates the BMI (Body Mass Index) of a person based on their weight and height using if-else.\n",
    "# Input weight in kilograms and height in meters\n",
    "weight = float(input(\"Enter your weight in kilograms: \"))\n",
    "height = float(input(\"Enter your height in meters: \"))\n",
    "\n",
    "# Calculate BMI\n",
    "bmi = weight / (height ** 2)\n",
    "\n",
    "# Determine the BMI category\n",
    "if bmi < 18.5:\n",
    "    category = \"Underweight\"\n",
    "elif 18.5 <= bmi < 24.9:\n",
    "    category = \"Normal Weight\"\n",
    "elif 25 <= bmi < 29.9:\n",
    "    category = \"Overweight\"\n",
    "else:\n",
    "    category = \"Obese\"\n",
    "\n",
    "# Display the BMI and category\n",
    "print(f\"Your BMI is: {bmi:.2f}\")\n",
    "print(f\"Category: {category}\")\n"
   ]
  },
  {
   "cell_type": "code",
   "execution_count": 6,
   "id": "707fcec1-65c8-4ae7-a18e-b729afeee6ca",
   "metadata": {},
   "outputs": [
    {
     "name": "stdout",
     "output_type": "stream",
     "text": [
      "[2, 4, 6, 7, 9, 10]\n"
     ]
    }
   ],
   "source": [
    "# 23.How can you use the \"filter()\" function with if-else statements to filter elements from a list?\n",
    "# Define a custom filtering function\n",
    "def is_positive(x):\n",
    "    if x > 0:\n",
    "        return True\n",
    "    else:\n",
    "        return False\n",
    "\n",
    "# Define a list of numbers\n",
    "numbers = [-1, 2, -3, 4, -5, 6, 7, -8, 9, 10]\n",
    "\n",
    "# Use filter() with the custom function to filter positive numbers\n",
    "filtered_numbers = filter(is_positive, numbers)\n",
    "\n",
    "# Convert the result to a list\n",
    "result = list(filtered_numbers)\n",
    "\n",
    "# Print the filtered numbers\n",
    "print(result)\n"
   ]
  },
  {
   "cell_type": "code",
   "execution_count": 7,
   "id": "c01dca0e-9d9d-42e8-a885-72e886167030",
   "metadata": {},
   "outputs": [
    {
     "name": "stdin",
     "output_type": "stream",
     "text": [
      "Enter a number:  5\n"
     ]
    },
    {
     "name": "stdout",
     "output_type": "stream",
     "text": [
      "5 is a prime number.\n"
     ]
    }
   ],
   "source": [
    "# 24. Write a Python program to determine if a given number is prime or not using if-else.\n",
    "# Input a number\n",
    "num = int(input(\"Enter a number: \"))\n",
    "\n",
    "# Check if the number is less than 2 (not prime)\n",
    "if num < 2:\n",
    "    is_prime = False\n",
    "else:\n",
    "    is_prime = True\n",
    "\n",
    "    # Check for factors from 2 to the square root of the number\n",
    "    for i in range(2, int(num**0.5) + 1):\n",
    "        if num % i == 0:\n",
    "            is_prime = False\n",
    "            break\n",
    "\n",
    "# Determine and print the result\n",
    "if is_prime:\n",
    "    print(f\"{num} is a prime number.\")\n",
    "else:\n",
    "    print(f\"{num} is not a prime number.\")\n"
   ]
  },
  {
   "cell_type": "code",
   "execution_count": 8,
   "id": "05778d96-3f40-4190-a9ca-702fe963966f",
   "metadata": {},
   "outputs": [
    {
     "name": "stdout",
     "output_type": "stream",
     "text": [
      "[1, 4, 9, 16, 25]\n"
     ]
    }
   ],
   "source": [
    "# Map :-\n",
    "# 1. Explain the purpose of the `map()` function in Python and provide an example of how it can be used to apply a function to each element of an iterable.\n",
    "# The map() function in Python is used to apply a specified function to each item in an iterable (e.g., a list, tuple, or other iterable).\n",
    "# Define a list of numbers\n",
    "numbers = [1, 2, 3, 4, 5]\n",
    "\n",
    "# Define a function that squares a number\n",
    "def square(x):\n",
    "    return x ** 2\n",
    "\n",
    "# Use map() to apply the square function to each element of the list\n",
    "squared_numbers = map(square, numbers)\n",
    "\n",
    "# Convert the map object to a list to see the results\n",
    "result = list(squared_numbers)\n",
    "\n",
    "# Print the squared numbers\n",
    "print(result)\n"
   ]
  },
  {
   "cell_type": "code",
   "execution_count": 9,
   "id": "1415a587-b7d1-481a-bade-6dc64fd91618",
   "metadata": {},
   "outputs": [
    {
     "name": "stdout",
     "output_type": "stream",
     "text": [
      "[1, 4, 9, 16, 25]\n"
     ]
    }
   ],
   "source": [
    "# 2. Write a Python program that uses the `map()` function to square each element of a list of numbers.\n",
    "# Define a list of numbers\n",
    "numbers = [1, 2, 3, 4, 5]\n",
    "\n",
    "# Define a function that squares a number\n",
    "def square(x):\n",
    "    return x ** 2\n",
    "\n",
    "# Use map() to apply the square function to each element of the list\n",
    "squared_numbers = map(square, numbers)\n",
    "\n",
    "# Convert the map object to a list to see the squared numbers\n",
    "result = list(squared_numbers)\n",
    "\n",
    "# Print the squared numbers\n",
    "print(result)\n"
   ]
  },
  {
   "cell_type": "code",
   "execution_count": 10,
   "id": "a47901db-885c-4d16-8f48-e225236126d0",
   "metadata": {},
   "outputs": [
    {
     "name": "stdout",
     "output_type": "stream",
     "text": [
      "[1, 4, 9, 16, 25]\n"
     ]
    }
   ],
   "source": [
    "# 3. How does the `map()` function differ from a list comprehension in Python, and when would you choose one over the other?\n",
    "# map() function:\n",
    "# Usage: The map() function is used to apply a given function to each element of an iterable and returns an iterable (a map object) containing the results.\n",
    "# Syntax: map(function, iterable)\n",
    "# Return Type: Map objects are lazy iterators. They don't compute the results until you explicitly iterate over them or convert them to a list or another iterable.\n",
    "# Example using map():\n",
    "# Define a list of numbers\n",
    "numbers = [1, 2, 3, 4, 5]\n",
    "\n",
    "# Define a function that squares a number\n",
    "def square(x):\n",
    "    return x ** 2\n",
    "\n",
    "# Use map() to apply the square function to each element\n",
    "squared_numbers = map(square, numbers)\n",
    "\n",
    "# Convert the map object to a list to see the results\n",
    "result = list(squared_numbers)\n",
    "\n",
    "# Print the squared numbers\n",
    "print(result)\n"
   ]
  },
  {
   "cell_type": "code",
   "execution_count": 11,
   "id": "b0e8fdee-c8d3-4861-aaa2-73ef90c5530c",
   "metadata": {},
   "outputs": [
    {
     "name": "stdout",
     "output_type": "stream",
     "text": [
      "[1, 4, 9, 16, 25]\n"
     ]
    }
   ],
   "source": [
    "# List comprehensions:\n",
    "# Usage: List comprehensions provide a concise way to create new lists by applying an expression to each element of an iterable. They create a new list as the result.\n",
    "# Syntax: [expression for element in iterable]\n",
    "# Return Type: List comprehensions return a new list.\n",
    "# Example using list comprehension:\n",
    "# Define a list of numbers\n",
    "numbers = [1, 2, 3, 4, 5]\n",
    "\n",
    "# Use a list comprehension to square each number\n",
    "squared_numbers = [x ** 2 for x in numbers]\n",
    "\n",
    "# Print the squared numbers\n",
    "print(squared_numbers)\n"
   ]
  },
  {
   "cell_type": "code",
   "execution_count": 12,
   "id": "a2b5c49f-8bba-4901-a5d2-b3ac1275d8b0",
   "metadata": {},
   "outputs": [
    {
     "name": "stdout",
     "output_type": "stream",
     "text": [
      "['ALICE', 'BOB', 'CHARLIE', 'DAVID', 'EVE']\n"
     ]
    }
   ],
   "source": [
    "# 4. Create a Python program that uses the `map()` function to convert a list of names to uppercase.\n",
    "# Define a list of names\n",
    "names = [\"Alice\", \"Bob\", \"Charlie\", \"David\", \"Eve\"]\n",
    "\n",
    "# Define a function to convert a name to uppercase\n",
    "def convert_to_uppercase(name):\n",
    "    return name.upper()\n",
    "\n",
    "# Use map() to apply the conversion function to each name\n",
    "uppercase_names = map(convert_to_uppercase, names)\n",
    "\n",
    "# Convert the map object to a list to see the results\n",
    "result = list(uppercase_names)\n",
    "\n",
    "# Print the uppercase names\n",
    "print(result)\n"
   ]
  },
  {
   "cell_type": "code",
   "execution_count": 13,
   "id": "9ee90bdd-89d4-4881-8cce-74888912a9fc",
   "metadata": {},
   "outputs": [
    {
     "name": "stdout",
     "output_type": "stream",
     "text": [
      "[5, 5, 6, 11, 2, 3]\n"
     ]
    }
   ],
   "source": [
    "# 5. Write a Python program that uses the `map()` function to calculate the length of each word in a list of strings.\n",
    "# Define a list of strings\n",
    "strings = [\"Hello\", \"world\", \"Python\", \"programming\", \"is\", \"fun\"]\n",
    "\n",
    "# Define a function to calculate the length of a word\n",
    "def calculate_word_length(word):\n",
    "    return len(word)\n",
    "\n",
    "# Use map() to apply the word length calculation function to each word\n",
    "word_lengths = map(calculate_word_length, strings)\n",
    "\n",
    "# Convert the map object to a list to see the results\n",
    "result = list(word_lengths)\n",
    "\n",
    "# Print the word lengths\n",
    "print(result)\n"
   ]
  },
  {
   "cell_type": "code",
   "execution_count": 14,
   "id": "a4f696bb-e143-43f8-a509-734f63418934",
   "metadata": {},
   "outputs": [
    {
     "name": "stdout",
     "output_type": "stream",
     "text": [
      "[6, 8, 10, 12]\n"
     ]
    }
   ],
   "source": [
    "# 6.How can you use the `map()` function to apply a custom function to elements of multiple lists simultaneously in Python?\n",
    "# Define two lists of numbers\n",
    "list1 = [1, 2, 3, 4]\n",
    "list2 = [5, 6, 7, 8]\n",
    "\n",
    "# Define a custom function that takes two arguments and returns their sum\n",
    "def add_numbers(x, y):\n",
    "    return x + y\n",
    "\n",
    "# Use map() to apply the custom function to elements of both lists simultaneously\n",
    "result = list(map(add_numbers, list1, list2))\n",
    "\n",
    "# Print the result\n",
    "print(result)\n",
    " "
   ]
  },
  {
   "cell_type": "code",
   "execution_count": 15,
   "id": "85c2eabe-9bdc-40fc-b05d-4b4a7b659e23",
   "metadata": {},
   "outputs": [
    {
     "name": "stdout",
     "output_type": "stream",
     "text": [
      "[32.0, 50.0, 68.0, 86.0, 104.0]\n"
     ]
    }
   ],
   "source": [
    "# 7.Create a Python program that uses `map()` to convert a list of temperatures from Celsius to Fahrenheit.\n",
    "# Define a list of temperatures in Celsius\n",
    "celsius_temperatures = [0, 10, 20, 30, 40]\n",
    "\n",
    "# Define a function to convert Celsius to Fahrenheit\n",
    "def celsius_to_fahrenheit(celsius):\n",
    "    return (celsius * 9/5) + 32\n",
    "\n",
    "# Use map() to apply the conversion function to each temperature\n",
    "fahrenheit_temperatures = map(celsius_to_fahrenheit, celsius_temperatures)\n",
    "\n",
    "# Convert the map object to a list to see the results\n",
    "result = list(fahrenheit_temperatures)\n",
    "\n",
    "# Print the temperatures in Fahrenheit\n",
    "print(result)\n"
   ]
  },
  {
   "cell_type": "code",
   "execution_count": 16,
   "id": "277530e2-42c2-4503-90bc-453b848bdf8d",
   "metadata": {},
   "outputs": [
    {
     "name": "stdout",
     "output_type": "stream",
     "text": [
      "[3, 3, 2, 5, 1]\n"
     ]
    }
   ],
   "source": [
    "# 8.Write a Python program that uses the `map()` function to round each element of a list of floating-point numbers to the nearest integer.\n",
    "# Define a list of floating-point numbers\n",
    "float_numbers = [3.14, 2.718, 1.618, 4.669, 0.577]\n",
    "\n",
    "# Define a function to round a floating-point number to the nearest integer\n",
    "def round_to_integer(number):\n",
    "    return round(number)\n",
    "\n",
    "# Use map() to apply the rounding function to each floating-point number\n",
    "rounded_integers = map(round_to_integer, float_numbers)\n",
    "\n",
    "# Convert the map object to a list to see the results\n",
    "result = list(rounded_integers)\n",
    "\n",
    "# Print the rounded integers\n",
    "print(result)\n"
   ]
  },
  {
   "cell_type": "code",
   "execution_count": 17,
   "id": "33ad05b2-d5fa-468e-9261-90ca9f689a99",
   "metadata": {},
   "outputs": [
    {
     "name": "stdout",
     "output_type": "stream",
     "text": [
      "120\n"
     ]
    }
   ],
   "source": [
    "# Reduce :-\n",
    "# 1.What is the `reduce()` function in Python, and what module should you import to use it? Provide an example of its basic usage.\n",
    "import functools\n",
    "\n",
    "# Define a list of numbers\n",
    "numbers = [1, 2, 3, 4, 5]\n",
    "\n",
    "# Define a function to multiply two numbers\n",
    "def multiply(x, y):\n",
    "    return x * y\n",
    "\n",
    "# Use reduce() to find the product of all numbers\n",
    "product = functools.reduce(multiply, numbers)\n",
    "\n",
    "# Print the product\n",
    "print(product)\n"
   ]
  },
  {
   "cell_type": "code",
   "execution_count": 19,
   "id": "93607502-2cf1-41f7-b9eb-6f9cd886e914",
   "metadata": {},
   "outputs": [
    {
     "name": "stdout",
     "output_type": "stream",
     "text": [
      "120\n"
     ]
    }
   ],
   "source": [
    "# 2.Write a Python program that uses the `reduce()` function to find the product of all elements in a list.\n",
    "import functools\n",
    "\n",
    "# Define a list of numbers\n",
    "numbers = [1, 2, 3, 4, 5]\n",
    "\n",
    "# Define a function to multiply two numbers\n",
    "def multiply(x, y):\n",
    "    return x * y\n",
    "\n",
    "# Use reduce() to find the product of all numbers\n",
    "product = functools.reduce(multiply, numbers)\n",
    "\n",
    "# Print the product\n",
    "print(product)\n",
    "\n"
   ]
  },
  {
   "cell_type": "code",
   "execution_count": 20,
   "id": "4902b009-160c-4b31-918d-72a8e8ebc37f",
   "metadata": {},
   "outputs": [
    {
     "name": "stdout",
     "output_type": "stream",
     "text": [
      "98\n"
     ]
    }
   ],
   "source": [
    "# 3.Create a Python program that uses `reduce()` to find the maximum element in a list of numbers.\n",
    "import functools\n",
    "\n",
    "# Define a list of numbers\n",
    "numbers = [15, 7, 22, 45, 98, 3, 21]\n",
    "\n",
    "# Define a function to find the maximum of two numbers\n",
    "def find_max(x, y):\n",
    "    return x if x > y else y\n",
    "\n",
    "# Use reduce() to find the maximum element in the list\n",
    "max_number = functools.reduce(find_max, numbers)\n",
    "\n",
    "# Print the maximum number\n",
    "print(max_number)\n",
    " "
   ]
  },
  {
   "cell_type": "code",
   "execution_count": 21,
   "id": "77d7e719-7c9e-4944-98a1-f4098a1c4a6e",
   "metadata": {},
   "outputs": [
    {
     "name": "stdout",
     "output_type": "stream",
     "text": [
      "Hello, world!\n"
     ]
    }
   ],
   "source": [
    "# 4.How can you use the `reduce()` function to concatenate a list of strings into a single string?\n",
    "import functools\n",
    "\n",
    "# Define a list of strings\n",
    "strings = [\"Hello\", \", \", \"world\", \"!\"]\n",
    "\n",
    "# Define a function to concatenate two strings\n",
    "def concatenate_strings(x, y):\n",
    "    return x + y\n",
    "\n",
    "# Use reduce() to concatenate the strings in the list\n",
    "result = functools.reduce(concatenate_strings, strings)\n",
    "\n",
    "# Print the concatenated string\n",
    "print(result)\n",
    " "
   ]
  },
  {
   "cell_type": "code",
   "execution_count": 23,
   "id": "aa4358d7-a0fc-46e5-ace9-2a79c2e7c2b0",
   "metadata": {},
   "outputs": [
    {
     "name": "stdin",
     "output_type": "stream",
     "text": [
      "Enter a number:  5\n"
     ]
    },
    {
     "name": "stdout",
     "output_type": "stream",
     "text": [
      "The factorial of 5 is 120\n"
     ]
    }
   ],
   "source": [
    "# 5.Write a Python program that calculates the factorial of a number using the `reduce()` function.\n",
    "import functools\n",
    "\n",
    "# Define a function to calculate the factorial of a number\n",
    "def calculate_factorial(x, y):\n",
    "    return x * y\n",
    "\n",
    "# Input a number for which you want to calculate the factorial\n",
    "n = int(input(\"Enter a number: \"))\n",
    "\n",
    "# Create a list of numbers from 1 to n\n",
    "numbers = list(range(1, n + 1))\n",
    "\n",
    "# Use reduce() to calculate the factorial of the number\n",
    "factorial = functools.reduce(calculate_factorial, numbers, 1)\n",
    "\n",
    "# Print the factorial\n",
    "print(f\"The factorial of {n} is {factorial}\")\n",
    "\n"
   ]
  },
  {
   "cell_type": "code",
   "execution_count": 24,
   "id": "bba7e933-0c7e-4d36-b0ee-510c4f08b877",
   "metadata": {},
   "outputs": [
    {
     "name": "stdout",
     "output_type": "stream",
     "text": [
      "The GCD of the numbers is 12\n"
     ]
    }
   ],
   "source": [
    "# 6.Create a Python program that uses `reduce()` to find the GCD (Greatest Common Divisor) of a list of numbers.\n",
    "import functools\n",
    "import math\n",
    "\n",
    "# Define a function to find the GCD of two numbers\n",
    "def find_gcd(x, y):\n",
    "    return math.gcd(x, y)\n",
    "\n",
    "# Define a list of numbers\n",
    "numbers = [24, 36, 48, 60, 72]\n",
    "\n",
    "# Use reduce() to find the GCD of the numbers in the list\n",
    "gcd = functools.reduce(find_gcd, numbers)\n",
    "\n",
    "# Print the GCD\n",
    "print(f\"The GCD of the numbers is {gcd}\")\n"
   ]
  },
  {
   "cell_type": "code",
   "execution_count": 25,
   "id": "ecebc066-dd01-4fa5-bfe0-c0c10fbe662c",
   "metadata": {},
   "outputs": [
    {
     "name": "stdin",
     "output_type": "stream",
     "text": [
      "Enter a number:  12\n"
     ]
    },
    {
     "name": "stdout",
     "output_type": "stream",
     "text": [
      "The sum of digits in 12 is 3\n"
     ]
    }
   ],
   "source": [
    "# 7.Write a Python program that uses the `reduce()` function to find the sum of the digits of a given number.\n",
    "import functools\n",
    "\n",
    "# Define a function to calculate the sum of two numbers (digits)\n",
    "def calculate_digit_sum(x, y):\n",
    "    return x + y\n",
    "\n",
    "# Input a number for which you want to find the sum of digits\n",
    "number = int(input(\"Enter a number: \"))\n",
    "\n",
    "# Convert the number to a list of its digits\n",
    "digits = [int(digit) for digit in str(number)]\n",
    "\n",
    "# Use reduce() to find the sum of the digits\n",
    "digit_sum = functools.reduce(calculate_digit_sum, digits, 0)\n",
    "\n",
    "# Print the sum of digits\n",
    "print(f\"The sum of digits in {number} is {digit_sum}\")\n"
   ]
  },
  {
   "cell_type": "code",
   "execution_count": 26,
   "id": "be51b450-f5cf-45e5-a706-53284e98b8c3",
   "metadata": {},
   "outputs": [
    {
     "name": "stdout",
     "output_type": "stream",
     "text": [
      "[2, 4, 6, 8, 10]\n"
     ]
    }
   ],
   "source": [
    "# Filter :-\n",
    "# 1.Explain the purpose of the `filter()` function in Python and provide an example of how it can be used to filter elements from an iterable.\n",
    "# Define a list of numbers\n",
    "numbers = [1, 2, 3, 4, 5, 6, 7, 8, 9, 10]\n",
    "\n",
    "# Define a filtering function to check for even numbers\n",
    "def is_even(x):\n",
    "    return x % 2 == 0\n",
    "\n",
    "# Use filter() to filter even numbers from the list\n",
    "even_numbers = filter(is_even, numbers)\n",
    "\n",
    "# Convert the filter object to a list to see the results\n",
    "result = list(even_numbers)\n",
    "\n",
    "# Print the even numbers\n",
    "print(result)\n"
   ]
  },
  {
   "cell_type": "code",
   "execution_count": 27,
   "id": "ddd80501-df20-4d42-b239-e89b34148262",
   "metadata": {},
   "outputs": [
    {
     "name": "stdout",
     "output_type": "stream",
     "text": [
      "[2, 4, 6, 8, 10]\n"
     ]
    }
   ],
   "source": [
    "# 2.Write a Python program that uses the `filter()` function to select even numbers from a list of integers.\n",
    "# Define a list of numbers\n",
    "numbers = [1, 2, 3, 4, 5, 6, 7, 8, 9, 10]\n",
    "\n",
    "# Define a filtering function to check for even numbers\n",
    "def is_even(x):\n",
    "    return x % 2 == 0\n",
    "\n",
    "# Use filter() to select even numbers from the list\n",
    "even_numbers = filter(is_even, numbers)\n",
    "\n",
    "# Convert the filter object to a list to see the results\n",
    "result = list(even_numbers)\n",
    "\n",
    "# Print the even numbers\n",
    "print(result)\n",
    " "
   ]
  },
  {
   "cell_type": "code",
   "execution_count": 28,
   "id": "f89757fe-b813-4f73-9d28-b16c4533816b",
   "metadata": {},
   "outputs": [
    {
     "name": "stdout",
     "output_type": "stream",
     "text": [
      "['David']\n"
     ]
    }
   ],
   "source": [
    "# 3.Create a Python program that uses the `filter()` function to select names that start with a specific letter from a list of strings.\n",
    "# Define a list of names\n",
    "names = [\"Alice\", \"Bob\", \"Charlie\", \"David\", \"Eve\", \"Frank\"]\n",
    "\n",
    "# Define the specific letter to filter by\n",
    "letter_to_filter = \"D\"\n",
    "\n",
    "# Define a filtering function to check if a name starts with the specific letter\n",
    "def starts_with_letter(name):\n",
    "    return name.startswith(letter_to_filter)\n",
    "\n",
    "# Use filter() to select names that start with the specific letter\n",
    "filtered_names = filter(starts_with_letter, names)\n",
    "\n",
    "# Convert the filter object to a list to see the results\n",
    "result = list(filtered_names)\n",
    "\n",
    "# Print the filtered names\n",
    "print(result)\n"
   ]
  },
  {
   "cell_type": "code",
   "execution_count": 29,
   "id": "12ef11aa-bed1-4beb-bf82-0227aa2140cf",
   "metadata": {},
   "outputs": [
    {
     "name": "stdout",
     "output_type": "stream",
     "text": [
      "[2, 3, 5, 7, 11]\n"
     ]
    }
   ],
   "source": [
    "# 4.Write a Python program that uses the `filter()` function to select prime numbers from a list of integers.\n",
    "# Define a list of numbers\n",
    "numbers = [2, 3, 4, 5, 6, 7, 8, 9, 10, 11, 12]\n",
    "\n",
    "# Define a function to check if a number is prime\n",
    "def is_prime(x):\n",
    "    if x <= 1:\n",
    "        return False\n",
    "    if x <= 3:\n",
    "        return True\n",
    "    if x % 2 == 0 or x % 3 == 0:\n",
    "        return False\n",
    "    i = 5\n",
    "    while i * i <= x:\n",
    "        if x % i == 0 or x % (i + 2) == 0:\n",
    "            return False\n",
    "        i += 6\n",
    "    return True\n",
    "\n",
    "# Use filter() to select prime numbers from the list\n",
    "prime_numbers = filter(is_prime, numbers)\n",
    "\n",
    "# Convert the filter object to a list to see the results\n",
    "result = list(prime_numbers)\n",
    "\n",
    "# Print the prime numbers\n",
    "print(result)\n"
   ]
  },
  {
   "cell_type": "code",
   "execution_count": 30,
   "id": "389e404d-3ac2-4296-8d42-17e199253082",
   "metadata": {},
   "outputs": [
    {
     "name": "stdout",
     "output_type": "stream",
     "text": [
      "[1, 2, 3, 4, 5]\n"
     ]
    }
   ],
   "source": [
    "# 5.How can you use the `filter()` function to remove None values from a list in Python?\n",
    "# Define a list with None values\n",
    "values = [1, None, 2, 3, None, 4, None, 5]\n",
    "\n",
    "# Define a filtering function to remove None values\n",
    "def remove_none(x):\n",
    "    return x is not None\n",
    "\n",
    "# Use filter() to remove None values from the list\n",
    "filtered_values = filter(remove_none, values)\n",
    "\n",
    "# Convert the filter object to a list to see the results\n",
    "result = list(filtered_values)\n",
    "\n",
    "# Print the list without None values\n",
    "print(result)\n"
   ]
  },
  {
   "cell_type": "code",
   "execution_count": 31,
   "id": "f5ef4dcb-bd71-4220-994f-03a0ca9dd873",
   "metadata": {},
   "outputs": [
    {
     "name": "stdout",
     "output_type": "stream",
     "text": [
      "['banana', 'cherry', 'elderberry']\n"
     ]
    }
   ],
   "source": [
    "# 6.Create a Python program that uses `filter()` to select words longer than a certain length from a list of strings.\n",
    "# Define a list of strings\n",
    "strings = [\"apple\", \"banana\", \"cherry\", \"date\", \"elderberry\", \"fig\", \"grape\"]\n",
    "\n",
    "# Define the minimum length for words to be selected\n",
    "min_length = 5\n",
    "\n",
    "# Define a filtering function to select words longer than the minimum length\n",
    "def is_long_word(word):\n",
    "    return len(word) > min_length\n",
    "\n",
    "# Use filter() to select words longer than the minimum length\n",
    "long_words = filter(is_long_word, strings)\n",
    "\n",
    "# Convert the filter object to a list to see the results\n",
    "result = list(long_words)\n",
    "\n",
    "# Print the selected long words\n",
    "print(result)\n"
   ]
  },
  {
   "cell_type": "code",
   "execution_count": 32,
   "id": "37b94b9b-dcda-466b-b7b3-963ebfd78df2",
   "metadata": {},
   "outputs": [
    {
     "name": "stdout",
     "output_type": "stream",
     "text": [
      "[25, 35, 40]\n"
     ]
    }
   ],
   "source": [
    "# 7.Write a Python program that uses the `filter()` function to select elements greater than a specified threshold from a list of values.\n",
    "# Define a list of values\n",
    "values = [15, 25, 10, 35, 5, 40, 20]\n",
    "\n",
    "# Define the threshold value for selection\n",
    "threshold = 20\n",
    "\n",
    "# Define a filtering function to select values greater than the threshold\n",
    "def is_greater_than_threshold(value):\n",
    "    return value > threshold\n",
    "\n",
    "# Use filter() to select values greater than the threshold\n",
    "selected_values = filter(is_greater_than_threshold, values)\n",
    "\n",
    "# Convert the filter object to a list to see the results\n",
    "result = list(selected_values)\n",
    "\n",
    "# Print the selected values\n",
    "print(result)\n"
   ]
  },
  {
   "cell_type": "code",
   "execution_count": 33,
   "id": "6e164604-4b41-43c7-8788-0f82b56b1888",
   "metadata": {},
   "outputs": [
    {
     "name": "stdout",
     "output_type": "stream",
     "text": [
      "120\n"
     ]
    }
   ],
   "source": [
    "# Recursion:-\n",
    "# 1.Explain the concept of recursion in Python. How does it differ from iteration?\n",
    "# Recursion in Python is a programming technique where a function calls itself in order to solve a problem by breaking it down into smaller, similar subproblems.\n",
    "# Recursive Approach:\n",
    "def factorial_recursive(n):\n",
    "    # Base case: If n is 0 or 1, return 1\n",
    "    if n == 0 or n == 1:\n",
    "        return 1\n",
    "    # Recursive case: Calculate factorial for (n-1) and multiply by n\n",
    "    else:\n",
    "        return n * factorial_recursive(n - 1)\n",
    "\n",
    "# Calculate the factorial of 5 using the recursive function\n",
    "result = factorial_recursive(5)\n",
    "print(result)\n",
    "\n"
   ]
  },
  {
   "cell_type": "code",
   "execution_count": 34,
   "id": "b295ccbb-ceda-44c1-bbfb-7d987d24e921",
   "metadata": {},
   "outputs": [
    {
     "name": "stdout",
     "output_type": "stream",
     "text": [
      "120\n"
     ]
    }
   ],
   "source": [
    "# Iterative Approach:\n",
    "def factorial_iterative(n):\n",
    "    result = 1\n",
    "    for i in range(1, n + 1):\n",
    "        result *= i\n",
    "    return result\n",
    "\n",
    "# Calculate the factorial of 5 using the iterative function\n",
    "result = factorial_iterative(5)\n",
    "print(result)\n"
   ]
  },
  {
   "cell_type": "code",
   "execution_count": 35,
   "id": "d15e49e9-8ea0-4127-817f-be5b204b99c8",
   "metadata": {},
   "outputs": [
    {
     "name": "stdin",
     "output_type": "stream",
     "text": [
      "Enter a number:  7\n"
     ]
    },
    {
     "name": "stdout",
     "output_type": "stream",
     "text": [
      "The factorial of 7 is 5040\n"
     ]
    }
   ],
   "source": [
    "# 2.Write a Python program to calculate the factorial of a number using recursion.\n",
    "def factorial_recursive(n):\n",
    "    # Base case: If n is 0 or 1, return 1\n",
    "    if n == 0 or n == 1:\n",
    "        return 1\n",
    "    # Recursive case: Calculate factorial for (n-1) and multiply by n\n",
    "    else:\n",
    "        return n * factorial_recursive(n - 1)\n",
    "\n",
    "# Input the number for which you want to calculate the factorial\n",
    "n = int(input(\"Enter a number: \"))\n",
    "\n",
    "# Calculate the factorial using the recursive function\n",
    "result = factorial_recursive(n)\n",
    "\n",
    "# Print the factorial\n",
    "print(f\"The factorial of {n} is {result}\")\n",
    " "
   ]
  },
  {
   "cell_type": "code",
   "execution_count": 37,
   "id": "2d0bcc86-4eea-4744-b826-880c604ff38d",
   "metadata": {},
   "outputs": [
    {
     "name": "stdin",
     "output_type": "stream",
     "text": [
      "Enter the value of n:  10\n"
     ]
    },
    {
     "name": "stdout",
     "output_type": "stream",
     "text": [
      "The 10th Fibonacci number is 55\n"
     ]
    }
   ],
   "source": [
    "# 3.Create a recursive Python function to find the nth Fibonacci number.\n",
    "def fibonacci_recursive(n):\n",
    "    # Base cases: Fibonacci(0) = 0, Fibonacci(1) = 1\n",
    "    if n == 0:\n",
    "        return 0\n",
    "    elif n == 1:\n",
    "        return 1\n",
    "    # Recursive case: Fibonacci(n) = Fibonacci(n-1) + Fibonacci(n-2)\n",
    "    else:\n",
    "        return fibonacci_recursive(n - 1) + fibonacci_recursive(n - 2)\n",
    "\n",
    "# Input the value of n\n",
    "n = int(input(\"Enter the value of n: \"))\n",
    "\n",
    "# Calculate the nth Fibonacci number using the recursive function\n",
    "result = fibonacci_recursive(n)\n",
    "\n",
    "# Print the result\n",
    "print(f\"The {n}th Fibonacci number is {result}\")\n"
   ]
  },
  {
   "cell_type": "code",
   "execution_count": 38,
   "id": "2976cabb-c03c-4621-a78c-b4e7dfa44ac4",
   "metadata": {},
   "outputs": [
    {
     "name": "stdout",
     "output_type": "stream",
     "text": [
      "The sum of the elements in the list is 15\n"
     ]
    }
   ],
   "source": [
    "# 4.Write a recursive Python function to calculate the sum of all elements in a list.\n",
    "def recursive_sum(arr):\n",
    "    # Base case: If the list is empty, the sum is 0\n",
    "    if not arr:\n",
    "        return 0\n",
    "    # Recursive case: Add the first element to the sum of the rest of the list\n",
    "    else:\n",
    "        return arr[0] + recursive_sum(arr[1:])\n",
    "\n",
    "# Example list of numbers\n",
    "numbers = [1, 2, 3, 4, 5]\n",
    "\n",
    "# Calculate the sum using the recursive function\n",
    "result = recursive_sum(numbers)\n",
    "\n",
    "# Print the sum\n",
    "print(f\"The sum of the elements in the list is {result}\")\n"
   ]
  },
  {
   "cell_type": "code",
   "execution_count": 40,
   "id": "bb7e17f9-20bd-48c8-b46d-8f2e9bd2e55c",
   "metadata": {},
   "outputs": [],
   "source": [
    "# 5.How can you prevent a recursive function from running indefinitely, causing a stack overflow error?\n",
    "# Base Cases: Ensure that your recursive function has one or more base cases that define when the recursion should stop. Base cases are conditions under which the function returns a result without making further recursive calls. Without base cases, the recursion will continue indefinitely.\n",
    "def recursive_function(input):\n",
    "    # Base case(s)\n",
    "    if some_condition:\n",
    "        return something\n",
    "    # Recursive case(s)\n",
    "    else:\n",
    "        return recursive_function(modified_input)\n",
    "# Guard Clauses: Use guard clauses or conditional statements to check for invalid input or conditions that should halt the recursion before the recursive call.\n",
    "def recursive_function(input):\n",
    "    # Guard clause to handle invalid input\n",
    "    if invalid_condition:\n",
    "        return some_default_value\n",
    "    # Recursive case(s)\n",
    "    else:\n",
    "        return recursive_function(modified_input)\n",
    "# Limit Recursion Depth: Depending on the specific problem, you can limit the depth of recursion using a maximum recursion depth or a counter. When the depth limit is reached, the function should stop and return an appropriate result.\n",
    "def recursive_function(input, depth):\n",
    "    # Base case: Check if the depth limit is reached\n",
    "    if depth >= max_depth:\n",
    "        return something\n",
    "    # Recursive case(s)\n",
    "    else:\n",
    "        return recursive_function(modified_input, depth + 1)\n",
    "\n"
   ]
  },
  {
   "cell_type": "code",
   "execution_count": 42,
   "id": "08a3a18a-fc0c-446b-8cf6-abf107e15408",
   "metadata": {},
   "outputs": [
    {
     "name": "stdin",
     "output_type": "stream",
     "text": [
      "Enter the first number:  44\n",
      "Enter the second number:  20\n"
     ]
    },
    {
     "name": "stdout",
     "output_type": "stream",
     "text": [
      "The GCD of 44 and 20 is 4\n"
     ]
    }
   ],
   "source": [
    "# 6.Create a recursive Python function to find the greatest common divisor (GCD) of two numbers using the Euclidean algorithm.\n",
    "def gcd_recursive(a, b):\n",
    "    # Base case: GCD(a, 0) = a\n",
    "    if b == 0:\n",
    "        return a\n",
    "    # Recursive case: GCD(a, b) = GCD(b, a % b)\n",
    "    else:\n",
    "        return gcd_recursive(b, a % b)\n",
    "\n",
    "# Input the two numbers for which you want to find the GCD\n",
    "a = int(input(\"Enter the first number: \"))\n",
    "b = int(input(\"Enter the second number: \"))\n",
    "\n",
    "# Calculate the GCD using the recursive function\n",
    "result = gcd_recursive(a, b)\n",
    "\n",
    "# Print the GCD\n",
    "print(f\"The GCD of {a} and {b} is {result}\")\n"
   ]
  },
  {
   "cell_type": "code",
   "execution_count": 43,
   "id": "13b0426a-8dca-4658-98a5-598017566303",
   "metadata": {},
   "outputs": [
    {
     "name": "stdin",
     "output_type": "stream",
     "text": [
      "Enter a string:  Awesome\n"
     ]
    },
    {
     "name": "stdout",
     "output_type": "stream",
     "text": [
      "The reversed string is: emosewA\n"
     ]
    }
   ],
   "source": [
    "# 7.Write a recursive Python function to reverse a string.\n",
    "def reverse_string_recursive(input_str):\n",
    "    # Base case: If the string is empty or has only one character, return it\n",
    "    if len(input_str) <= 1:\n",
    "        return input_str\n",
    "\n",
    "    # Recursive case: Reverse the substring excluding the first and last characters\n",
    "    return input_str[-1] + reverse_string_recursive(input_str[1:-1]) + input_str[0]\n",
    "\n",
    "# Input the string you want to reverse\n",
    "input_string = input(\"Enter a string: \")\n",
    "\n",
    "# Calculate the reversed string using the recursive function\n",
    "result = reverse_string_recursive(input_string)\n",
    "\n",
    "# Print the reversed string\n",
    "print(f\"The reversed string is: {result}\")\n"
   ]
  },
  {
   "cell_type": "code",
   "execution_count": 44,
   "id": "40e99b3d-2a5e-4e36-9e14-975bb7581027",
   "metadata": {},
   "outputs": [
    {
     "name": "stdin",
     "output_type": "stream",
     "text": [
      "Enter the base (x):  5\n",
      "Enter the exponent (n):  3\n"
     ]
    },
    {
     "name": "stdout",
     "output_type": "stream",
     "text": [
      "5.0^3 is 125.0\n"
     ]
    }
   ],
   "source": [
    "# 8.Create a recursive Python function to calculate the power of a number (x^n).\n",
    "def power_recursive(x, n):\n",
    "    # Base case: x^0 = 1 for any x\n",
    "    if n == 0:\n",
    "        return 1\n",
    "\n",
    "    # Recursive case: Divide and conquer\n",
    "    half_power = power_recursive(x, n // 2)\n",
    "\n",
    "    # If n is even, use the formula (x^n) = (x^(n/2)) * (x^(n/2))\n",
    "    if n % 2 == 0:\n",
    "        return half_power * half_power\n",
    "    # If n is odd, use the formula (x^n) = x * (x^(n/2)) * (x^(n/2))\n",
    "    else:\n",
    "        return x * half_power * half_power\n",
    "\n",
    "# Input the base (x) and exponent (n)\n",
    "x = float(input(\"Enter the base (x): \"))\n",
    "n = int(input(\"Enter the exponent (n): \"))\n",
    "\n",
    "# Calculate x^n using the recursive function\n",
    "result = power_recursive(x, n)\n",
    "\n",
    "# Print the result\n",
    "print(f\"{x}^{n} is {result}\")\n"
   ]
  },
  {
   "cell_type": "code",
   "execution_count": 1,
   "id": "d3675c97-d3ac-46de-b563-a47a020c8a6e",
   "metadata": {},
   "outputs": [
    {
     "name": "stdin",
     "output_type": "stream",
     "text": [
      "Enter a string:  hi\n"
     ]
    },
    {
     "name": "stdout",
     "output_type": "stream",
     "text": [
      "All permutations:\n",
      "hi\n",
      "ih\n"
     ]
    }
   ],
   "source": [
    "# 9.Write a recursive Python function to find all permutations of a given string.\n",
    "def get_permutations(string, start=0):\n",
    "    # If we've reached the end of the string, we have a permutation\n",
    "    if start == len(string) - 1:\n",
    "        yield string  # Yield the current permutation\n",
    "    else:\n",
    "        # Iterate through each character starting from the current position\n",
    "        for i in range(start, len(string)):\n",
    "            # Swap the current character with the character at the current position\n",
    "            string_list = list(string)\n",
    "            string_list[start], string_list[i] = string_list[i], string_list[start]\n",
    "            new_string = ''.join(string_list)\n",
    "            \n",
    "            # Recursively generate permutations for the rest of the string\n",
    "            for permutation in get_permutations(new_string, start + 1):\n",
    "                yield permutation\n",
    "\n",
    "# Input the string for which you want to find permutations\n",
    "input_string = input(\"Enter a string: \")\n",
    "\n",
    "# Generate and print all permutations using the recursive function\n",
    "print(\"All permutations:\")\n",
    "for permutation in get_permutations(input_string):\n",
    "    print(permutation)\n"
   ]
  },
  {
   "cell_type": "code",
   "execution_count": 2,
   "id": "3d8fbfdd-2d44-426a-913c-1e4a32200941",
   "metadata": {},
   "outputs": [
    {
     "name": "stdin",
     "output_type": "stream",
     "text": [
      "Enter a string:  madam\n"
     ]
    },
    {
     "name": "stdout",
     "output_type": "stream",
     "text": [
      "madam is a palindrome.\n"
     ]
    }
   ],
   "source": [
    "# 10.Write a recursive Python function to check if a string is a palindrome.\n",
    "def is_palindrome_recursive(input_str):\n",
    "    # Base case: If the string has 0 or 1 character, it's a palindrome\n",
    "    if len(input_str) <= 1:\n",
    "        return True\n",
    "    # Compare the first and last characters\n",
    "    if input_str[0] != input_str[-1]:\n",
    "        return False\n",
    "    # Recursive case: Check the substring without the first and last characters\n",
    "    return is_palindrome_recursive(input_str[1:-1])\n",
    "\n",
    "# Input the string you want to check for palindrome\n",
    "input_string = input(\"Enter a string: \")\n",
    "\n",
    "# Check if the input string is a palindrome using the recursive function\n",
    "result = is_palindrome_recursive(input_string)\n",
    "\n",
    "# Print the result\n",
    "if result:\n",
    "    print(f\"{input_string} is a palindrome.\")\n",
    "else:\n",
    "    print(f\"{input_string} is not a palindrome.\")\n"
   ]
  },
  {
   "cell_type": "code",
   "execution_count": 4,
   "id": "5e86f480-acf0-4432-a22b-04cf3bad54aa",
   "metadata": {},
   "outputs": [
    {
     "name": "stdin",
     "output_type": "stream",
     "text": [
      "Enter a list of elements (comma-separated):  1, 2, 3, 3, 4, 5\n",
      "Enter the length of combinations (k):  6\n"
     ]
    },
    {
     "name": "stdout",
     "output_type": "stream",
     "text": [
      "All combinations:\n",
      "('1', ' 2', ' 3', ' 3', ' 4', ' 5')\n"
     ]
    }
   ],
   "source": [
    "# 11.Create a recursive Python function to generate all possible combinations of a list of elements.\n",
    "def get_combinations(elements, k):\n",
    "    def generate_combinations(current_combination, start_index):\n",
    "        # Base case: If the current_combination has k elements, yield it\n",
    "        if len(current_combination) == k:\n",
    "            yield tuple(current_combination)\n",
    "            return\n",
    "        \n",
    "        # Recursive case: Generate combinations with the remaining elements\n",
    "        for i in range(start_index, len(elements)):\n",
    "            # Include the current element in the combination\n",
    "            current_combination.append(elements[i])\n",
    "            \n",
    "            # Recursively generate combinations with the remaining elements\n",
    "            yield from generate_combinations(current_combination, i + 1)\n",
    "            \n",
    "            # Backtrack by removing the current element for the next iteration\n",
    "            current_combination.pop()\n",
    "\n",
    "    # Start the recursion with an empty current_combination and the first element\n",
    "    return generate_combinations([], 0)\n",
    "\n",
    "# Input the list of elements\n",
    "elements = input(\"Enter a list of elements (comma-separated): \").split(',')\n",
    "\n",
    "# Input the length of combinations (k)\n",
    "k = int(input(\"Enter the length of combinations (k): \"))\n",
    "\n",
    "# Generate and print all combinations using the recursive function\n",
    "print(\"All combinations:\")\n",
    "for combination in get_combinations(elements, k):\n",
    "    print(combination)\n"
   ]
  },
  {
   "cell_type": "code",
   "execution_count": 10,
   "id": "ac14eabe-d07f-444f-9846-428e7a02bfc6",
   "metadata": {},
   "outputs": [
    {
     "name": "stdout",
     "output_type": "stream",
     "text": [
      "Hello, Aman!\n"
     ]
    }
   ],
   "source": [
    "# Basics of Functions:\n",
    "# 1.What is a function in Python, and why is it used?\n",
    "# In Python, a function is a block of reusable code that performs a specific task or a set of tasks. Functions are a fundamental concept in programming and play a crucial role in structuring and organizing code. Here are the key aspects of functions in Python and why they are used:\n",
    "# Encapsulation: Functions encapsulate a piece of code and provide a well-defined interface for interacting with that code. This encapsulation helps in managing complexity by breaking down a program into smaller, manageable units.\n",
    "# Reuse: Functions can be reused multiple times throughout a program or in different programs. Instead of writing the same code over and over, you can define a function once and call it whenever needed.\n",
    "# Modularity: Functions promote modularity in code. You can design your program as a collection of smaller, modular functions, each responsible for a specific task. This makes the code easier to develop, test, and maintain.\n",
    "# Abstraction: Functions allow you to abstract away implementation details. When you call a function, you don't need to know how it's implemented; you only need to know what it does and how to use it.\n",
    "# Readability: Well-named functions enhance code readability. Functions with descriptive names make it clear what each part of the code is doing, improving code comprehension.\n",
    "# Parameterization: Functions can accept parameters (also known as arguments) to customize their behavior based on input values. This parameterization adds flexibility to your code.\n",
    "# Return Values: Functions can return values. This allows functions to produce results or data that can be used elsewhere in the program.\n",
    "# Organizing Code: Functions help organize code logically. By grouping related code into functions, you can create a structured and maintainable codebase.\n",
    "# Testing: Functions make it easier to write unit tests. You can test individual functions independently, ensuring that they work correctly before composing them into a larger program.\n",
    "# Here's a simple example of a Python function:\n",
    "def greet(name):\n",
    "    \"\"\"This function greets the person passed in as a parameter.\"\"\"\n",
    "    print(f\"Hello, {name}!\")\n",
    "greet(\"Aman\")\n"
   ]
  },
  {
   "cell_type": "code",
   "execution_count": 12,
   "id": "374ca2fb-29d8-4317-91f7-d50386584619",
   "metadata": {},
   "outputs": [
    {
     "name": "stdout",
     "output_type": "stream",
     "text": [
      "25\n"
     ]
    }
   ],
   "source": [
    "# 2.How do you define a function in Python? Provide an example.\n",
    "# def: This keyword is used to declare that you're defining a function.\n",
    "# function_name: Replace this with the name you want to give to your function. Function names should follow Python's naming conventions.\n",
    "# parameters: Inside the parentheses (), you can specify the input parameters (also called arguments) that the function accepts. Parameters are optional, and if your function doesn't take any, you can leave the parentheses empty.\n",
    "# \"\"\"Docstring (optional)\"\"\"\": This is an optional docstring, a multi-line string enclosed in triple-quotes. It provides a brief description of the function's purpose, parameters, and return value. It's good practice to include docstrings to document your functions.\n",
    "# Function code: This is the block of code that performs the task of the function. It can include one or more statements.\n",
    "# return result (optional): The return statement is used to specify the value that the function should return when called. Not all functions need to return a value, and the return statement is optional.\n",
    "# Here's an example of a Python function that calculates the square of a number:\n",
    "def square(number):\n",
    "    \"\"\"This function returns the square of a number.\"\"\"\n",
    "    result = number ** 2\n",
    "    return result\n",
    "# Calling the square function\n",
    "result = square(5)\n",
    "print(result)  # Output: 25\n",
    "\n",
    "\n"
   ]
  },
  {
   "cell_type": "code",
   "execution_count": 4,
   "id": "02dadf38-1d9a-468d-8206-06737e0dc1ef",
   "metadata": {},
   "outputs": [],
   "source": [
    "# 3.Explain the difference between a function definition and a function call.\n",
    "# Function Definition:\n",
    "# A function definition is where you declare and define the structure of a function.\n",
    "# It typically starts with the def keyword, followed by the function name, a list of parameters (if any), and a colon : to indicate the beginning of the function body.\n",
    "# Inside the function definition, you write the code that specifies what the function does when it is called.\n",
    "# You can include an optional docstring within triple-quotes (\"\"\") to describe the function's purpose, parameters, and return value.\n",
    "# The function definition serves as a blueprint or a template for the function. It defines the function's name, parameters, and behavior.\n",
    "# Example of a function definition:\n",
    "def add(a, b):\n",
    "    \"\"\"This function adds two numbers.\"\"\"\n",
    "    result = a + b\n",
    "    return result\n",
    "\n",
    "\n"
   ]
  },
  {
   "cell_type": "code",
   "execution_count": 6,
   "id": "7198e1ee-d236-49bb-adaa-011b44aafa86",
   "metadata": {},
   "outputs": [],
   "source": [
    "# Function Call:\n",
    "# A function call is when you actually execute or invoke the function you defined.\n",
    "# It involves using the function's name followed by parentheses () and providing the necessary arguments (if any) inside the parentheses.\n",
    "# When you call a function, the code inside the function definition is executed, and the result (if any) is returned.\n",
    "# Function calls are where you use the function to perform a specific task or operation.\n",
    "# Example of a function call:\n",
    "# Calling the add function\n",
    "result = add(5, 3)\n",
    "# output 8\n"
   ]
  },
  {
   "cell_type": "code",
   "execution_count": 8,
   "id": "1681e109-c033-4e87-aabb-cc3621b11d5f",
   "metadata": {},
   "outputs": [
    {
     "name": "stdin",
     "output_type": "stream",
     "text": [
      "Enter the first number:  5\n",
      "Enter the second number:  6\n"
     ]
    },
    {
     "name": "stdout",
     "output_type": "stream",
     "text": [
      "The sum of 5.0 and 6.0 is 11.0\n"
     ]
    }
   ],
   "source": [
    "# 4. Write a Python program that defines a function to calculate the sum of two numbers and then calls the function.\n",
    "# Function definition\n",
    "def add_numbers(a, b):\n",
    "    \"\"\"This function calculates the sum of two numbers.\"\"\"\n",
    "    result = a + b\n",
    "    return result\n",
    "\n",
    "# Input two numbers\n",
    "num1 = float(input(\"Enter the first number: \"))\n",
    "num2 = float(input(\"Enter the second number: \"))\n",
    "\n",
    "# Call the add_numbers function and store the result\n",
    "sum_result = add_numbers(num1, num2)\n",
    "\n",
    "# Display the result\n",
    "print(f\"The sum of {num1} and {num2} is {sum_result}\")\n"
   ]
  },
  {
   "cell_type": "code",
   "execution_count": 11,
   "id": "801d816b-67e6-49f9-b8a5-7e5880d1d05e",
   "metadata": {},
   "outputs": [],
   "source": [
    "# 5. What is a function signature, and what information does it typically include?\n",
    "# [def calculate_area(length: float, width: float) -> float:]\n",
    "# In this function signature:\n",
    "\n",
    "# calculate_area is the function name.\n",
    "# float is the data type of both length and width parameters.\n",
    "# -> float indicates that the function returns a floating-point number.\n",
    "# The function signature provides a clear contract for how to use the calculate_area function. It tells you that you should call it with two floating-point numbers as arguments and that it will return a floating-point result."
   ]
  },
  {
   "cell_type": "code",
   "execution_count": 13,
   "id": "a0424ae2-fbe1-4122-9db7-0b684f0c98b2",
   "metadata": {},
   "outputs": [
    {
     "name": "stdout",
     "output_type": "stream",
     "text": [
      "The product of 5 and 3 is 15\n"
     ]
    }
   ],
   "source": [
    "# 6.Create a Python function that takes two arguments and returns their product.\n",
    "def multiply(a, b):\n",
    "    \"\"\"This function takes two numbers as arguments and returns their product.\"\"\"\n",
    "    result = a * b\n",
    "    return result\n",
    "\n",
    "# Example usage:\n",
    "num1 = 5\n",
    "num2 = 3\n",
    "product = multiply(num1, num2)\n",
    "print(f\"The product of {num1} and {num2} is {product}\")\n",
    " "
   ]
  },
  {
   "cell_type": "code",
   "execution_count": 16,
   "id": "3fe264af-4f76-40cb-8941-9e84a91b240b",
   "metadata": {},
   "outputs": [],
   "source": [
    "# Function Parameters and Arguments:\n",
    "# 1.Explain the concepts of formal parameters and actual arguments in Python functions.\n",
    "# Formal Parameters (Parameters):\n",
    "# Formal parameters are placeholders or variables defined in the function's parameter list. They are specified in the function's definition and act as local variables within the function.\n",
    "# These parameters serve as input variables that receive values when the function is called. They define what kind of values the function expects and how those values should be accessed within the function's code.\n",
    "# Formal parameters are used to define the interface of the function, indicating what input it requires.\n",
    "# Example:\n",
    "def add(a, b):\n",
    "    \"\"\"a and b are formal parameters.\"\"\"\n",
    "    result = a + b\n",
    "    return result\n"
   ]
  },
  {
   "cell_type": "code",
   "execution_count": 17,
   "id": "b3616adc-fe76-49d7-9afc-522442b9c07b",
   "metadata": {},
   "outputs": [],
   "source": [
    "# Actual Arguments (Arguments):\n",
    "# Actual arguments are the values or expressions passed to a function when it is called. These values are provided outside the function's definition and are used to initialize the formal parameters.\n",
    "# Arguments supply the actual data that the function will operate on. They must match the order and data type of the formal parameters defined in the function.\n",
    "# In Python, you can pass arguments by position (matching the order of formal parameters) or by keyword (matching parameter names), and you can also use a mix of both.\n",
    "# Example:\n",
    "result = add(3, 5)\n",
    "# Here, 3 and 5 are actual arguments.\n"
   ]
  },
  {
   "cell_type": "code",
   "execution_count": 18,
   "id": "fa704b0c-6204-4ad2-b238-c16807b71171",
   "metadata": {},
   "outputs": [
    {
     "name": "stdout",
     "output_type": "stream",
     "text": [
      "Hello, Guest!\n",
      "Hello, Alice!\n"
     ]
    }
   ],
   "source": [
    "# 2.Write a Python program that defines a function with default argument values.\n",
    "def greet(name=\"Guest\"):\n",
    "    \"\"\"This function greets the provided name or 'Guest' if no name is given.\"\"\"\n",
    "    print(f\"Hello, {name}!\")\n",
    "\n",
    "# Call the greet function with and without providing an argument\n",
    "greet()  # Uses the default value \"Guest\"\n",
    "greet(\"Alice\")  # Provides a custom name \"Alice\"\n"
   ]
  },
  {
   "cell_type": "code",
   "execution_count": 19,
   "id": "653ed1eb-b262-4b0e-807c-f1491d49319a",
   "metadata": {},
   "outputs": [
    {
     "name": "stdout",
     "output_type": "stream",
     "text": [
      "Hello, Alice! You are 30 years old.\n"
     ]
    }
   ],
   "source": [
    "# 3.How do you use keyword arguments in Python function calls? Provide an example.\n",
    "# Specify the parameter name followed by the argument value using the parameter_name=value syntax.\n",
    "# Example:\n",
    "def greet(name, age):\n",
    "    print(f\"Hello, {name}! You are {age} years old.\")\n",
    "\n",
    "# Using keyword arguments to specify parameters by name\n",
    "greet(name=\"Alice\", age=30)\n"
   ]
  },
  {
   "cell_type": "code",
   "execution_count": 21,
   "id": "520931eb-0f4d-420f-97c4-a43832691f60",
   "metadata": {},
   "outputs": [
    {
     "name": "stdout",
     "output_type": "stream",
     "text": [
      "Hello, Bob! You are 25 years old.\n"
     ]
    }
   ],
   "source": [
    "# You can use a mix of positional and keyword arguments. When using keyword arguments, positional arguments should come before them.\n",
    "# Example:\n",
    "def greet(name, age):\n",
    "    print(f\"Hello, {name}! You are {age} years old.\")\n",
    "\n",
    "# Mixing positional and keyword arguments\n",
    "greet(\"Bob\", age=25)\n"
   ]
  },
  {
   "cell_type": "code",
   "execution_count": 22,
   "id": "0a2f0aef-1592-468c-8061-4f1e768f9458",
   "metadata": {},
   "outputs": [
    {
     "name": "stdout",
     "output_type": "stream",
     "text": [
      "Hello, Charlie! You are 35 years old.\n"
     ]
    }
   ],
   "source": [
    "# Keyword arguments allow you to provide arguments out of order.\n",
    "# Example:\n",
    "def greet(name, age):\n",
    "    print(f\"Hello, {name}! You are {age} years old.\")\n",
    "\n",
    "# Providing arguments out of order using keywords\n",
    "greet(age=35, name=\"Charlie\")\n"
   ]
  },
  {
   "cell_type": "code",
   "execution_count": 23,
   "id": "d66ad42c-3f6e-4838-9f83-fe7999f5c786",
   "metadata": {},
   "outputs": [
    {
     "name": "stdout",
     "output_type": "stream",
     "text": [
      "The sum is: 15\n"
     ]
    }
   ],
   "source": [
    "# 4.Create a Python function that accepts a variable number of arguments and calculates their sum.\n",
    "def calculate_sum(*args):\n",
    "    \"\"\"This function calculates the sum of variable arguments.\"\"\"\n",
    "    result = sum(args)\n",
    "    return result\n",
    "\n",
    "# Example usage:\n",
    "sum_result = calculate_sum(1, 2, 3, 4, 5)\n",
    "print(f\"The sum is: {sum_result}\")\n"
   ]
  },
  {
   "cell_type": "code",
   "execution_count": 27,
   "id": "a1a33878-7b25-40a8-b8c7-5ceb24800949",
   "metadata": {},
   "outputs": [],
   "source": [
    "# 5.What is the purpose of the `*args` and `**kwargs` syntax in function parameter lists?\n",
    "# *args (Arbitrary Positional Arguments):\n",
    "# The *args syntax allows you to pass a variable number of non-keyword (positional) arguments to a function.\n",
    "# When you use *args in a function's parameter list, it collects any additional positional arguments provided when the function is called into a tuple.\n",
    "# This is useful when you want to create functions that can accept a varying number of arguments.\n",
    "# Example:\n",
    "def sum_values(*args):\n",
    "    return sum(args)\n",
    "\n",
    "result = sum_values(1, 2, 3, 4, 5)\n"
   ]
  },
  {
   "cell_type": "code",
   "execution_count": 26,
   "id": "0449f87f-27a0-4ce7-8f70-fafc40b4102c",
   "metadata": {},
   "outputs": [
    {
     "name": "stdout",
     "output_type": "stream",
     "text": [
      "name: Alice\n",
      "age: 30\n",
      "city: New York\n"
     ]
    }
   ],
   "source": [
    "# **kwargs (Arbitrary Keyword Arguments):\n",
    "# The **kwargs syntax allows you to pass a variable number of keyword arguments (keyword-value pairs) to a function.\n",
    "# When you use **kwargs in a function's parameter list, it collects any additional keyword arguments provided when the function is called into a dictionary.\n",
    "# This is useful when you want to create functions that can accept a varying number of named arguments.\n",
    "# Example:\n",
    "def print_info(**kwargs):\n",
    "    for key, value in kwargs.items():\n",
    "        print(f\"{key}: {value}\")\n",
    "\n",
    "print_info(name=\"Alice\", age=30, city=\"New York\")\n"
   ]
  },
  {
   "cell_type": "code",
   "execution_count": 28,
   "id": "76c4a7c9-7a37-4206-8330-749c03e7d0e9",
   "metadata": {},
   "outputs": [
    {
     "name": "stdout",
     "output_type": "stream",
     "text": [
      "The sum is: 8\n"
     ]
    }
   ],
   "source": [
    "# Return Values and Scoping:\n",
    "# 1.Describe the role of the `return` statement in Python functions and provide examples.\n",
    "# Returning a Value: The primary purpose of the return statement is to return a value, which can be of any data type (e.g., integers, floats, strings, lists, etc.), as the result of the function's execution. This returned value can then be used by the caller.\n",
    "# Example:\n",
    "def add(a, b):\n",
    "    \"\"\"This function returns the sum of two numbers.\"\"\"\n",
    "    result = a + b\n",
    "    return result\n",
    "\n",
    "sum_result = add(3, 5)  # Calling the function and storing the result\n",
    "print(f\"The sum is: {sum_result}\")\n"
   ]
  },
  {
   "cell_type": "code",
   "execution_count": 29,
   "id": "d081fb6b-2536-42b0-97b0-34ae83901bd2",
   "metadata": {},
   "outputs": [
    {
     "name": "stdout",
     "output_type": "stream",
     "text": [
      "42\n"
     ]
    }
   ],
   "source": [
    "# 2.Explain the concept of variable scope in Python, including local and global variables.\n",
    "# Local Scope:\n",
    "# Variables defined within a function have local scope. They are accessible only within the function in which they are defined.\n",
    "# Local variables are created when a function is called and destroyed when the function exits. They are temporary and do not persist after the function finishes executing.\n",
    "# Attempting to access a local variable from outside its defining function will result in a NameError.\n",
    "# Example of a local variable:\n",
    "def my_function():\n",
    "    local_var = 42  # This is a local variable\n",
    "    print(local_var)\n",
    "\n",
    "my_function()\n",
    "# Accessing local_var outside the function would raise a NameError.\n"
   ]
  },
  {
   "cell_type": "code",
   "execution_count": 30,
   "id": "54c04b58-3674-4814-8416-fd27c76cda74",
   "metadata": {},
   "outputs": [
    {
     "name": "stdout",
     "output_type": "stream",
     "text": [
      "101\n"
     ]
    }
   ],
   "source": [
    "# Global Scope:\n",
    "# Variables defined outside of any function have global scope. They can be accessed and modified from anywhere in the code, including inside functions.\n",
    "# Global variables persist throughout the entire program's execution and are not tied to a specific function.\n",
    "# If you want to modify a global variable from within a function, you need to use the global keyword to indicate that you are working with the global variable, not creating a new local variable.\n",
    "# Example of a global variable:\n",
    "global_var = 100  # This is a global variable\n",
    "\n",
    "def modify_global():\n",
    "    global global_var  # Indicate that we are modifying the global variable\n",
    "    global_var += 1\n",
    "\n",
    "modify_global()\n",
    "print(global_var)  # Prints 101\n"
   ]
  },
  {
   "cell_type": "code",
   "execution_count": 31,
   "id": "a8297fe9-9043-4494-bb0f-530e11814cd8",
   "metadata": {},
   "outputs": [
    {
     "name": "stdout",
     "output_type": "stream",
     "text": [
      "Initial global variable value: 100\n",
      "Modified global variable value: 110\n",
      "Global variable: 110\n"
     ]
    }
   ],
   "source": [
    "# 3.Write a Python program that demonstrates the use of global variables within functions.\n",
    "# Global variable\n",
    "global_var = 100\n",
    "\n",
    "def modify_global():\n",
    "    # Access and modify the global variable within the function\n",
    "    global global_var\n",
    "    global_var += 10\n",
    "\n",
    "def print_global():\n",
    "    # Access and print the global variable within the function\n",
    "    print(f\"Global variable: {global_var}\")\n",
    "\n",
    "# Display the initial global variable value\n",
    "print(\"Initial global variable value:\", global_var)\n",
    "\n",
    "# Call the modify_global function to change the global variable\n",
    "modify_global()\n",
    "\n",
    "# Display the modified global variable value\n",
    "print(\"Modified global variable value:\", global_var)\n",
    "\n",
    "# Call the print_global function to print the global variable\n",
    "print_global()\n"
   ]
  },
  {
   "cell_type": "code",
   "execution_count": 32,
   "id": "2da97eb8-2ca2-43c0-894d-e665cfa878ce",
   "metadata": {},
   "outputs": [
    {
     "name": "stdout",
     "output_type": "stream",
     "text": [
      "The factorial of 5 is: 120\n"
     ]
    }
   ],
   "source": [
    "# 4.Create a Python function that calculates the factorial of a number and returns it.\n",
    "def factorial(n):\n",
    "    \"\"\"Calculate the factorial of a non-negative integer 'n'.\"\"\"\n",
    "    if n == 0:\n",
    "        return 1  # Base case: 0! = 1\n",
    "    else:\n",
    "        return n * factorial(n - 1)  # Recursive case: n! = n * (n-1)!\n",
    "result = factorial(5)\n",
    "print(f\"The factorial of 5 is: {result}\")  # Output: The factorial of 5 is: 120\n"
   ]
  },
  {
   "cell_type": "code",
   "execution_count": 33,
   "id": "1c8f2f8c-7b7d-43b7-a2f4-05e72bc0bc05",
   "metadata": {},
   "outputs": [
    {
     "name": "stdout",
     "output_type": "stream",
     "text": [
      "Accessing global_var from within the function: 42\n"
     ]
    }
   ],
   "source": [
    "# 5.How can you access variables defined outside a function from within the function?\n",
    "# Global Variables: Variables defined outside all functions have global scope and can be accessed directly from within any function.\n",
    "# Example:\n",
    "global_var = 42  # Global variable\n",
    "\n",
    "def access_global():\n",
    "    print(f\"Accessing global_var from within the function: {global_var}\")\n",
    "\n",
    "access_global()\n"
   ]
  },
  {
   "cell_type": "code",
   "execution_count": 34,
   "id": "5da67cab-961f-410d-9d10-c07a271bcd66",
   "metadata": {},
   "outputs": [
    {
     "name": "stdout",
     "output_type": "stream",
     "text": [
      "Accessing outer_var from within the inner function: I am from the outer function\n"
     ]
    }
   ],
   "source": [
    "# Enclosing (Non-local) Variables: If a function is defined inside another function (a nested function), it can access variables from the enclosing (outer) function's scope.\n",
    "\n",
    "# Example:\n",
    "def outer_function():\n",
    "    outer_var = \"I am from the outer function\"\n",
    "\n",
    "    def inner_function():\n",
    "        print(f\"Accessing outer_var from within the inner function: {outer_var}\")\n",
    "\n",
    "    inner_function()\n",
    "\n",
    "outer_function()\n"
   ]
  },
  {
   "cell_type": "code",
   "execution_count": 35,
   "id": "d0951739-e5db-4008-98d5-11504bf8ac5f",
   "metadata": {},
   "outputs": [
    {
     "name": "stdout",
     "output_type": "stream",
     "text": [
      "Modified global_var: 52\n"
     ]
    }
   ],
   "source": [
    "# Modifying Global Variables: To modify a global variable from within a function, you need to use the global keyword to indicate that you want to work with the global variable and not create a new local variable.\n",
    "# Example:\n",
    "global_var = 42\n",
    "\n",
    "def modify_global():\n",
    "    global global_var\n",
    "    global_var += 10\n",
    "\n",
    "modify_global()\n",
    "print(f\"Modified global_var: {global_var}\")\n"
   ]
  },
  {
   "cell_type": "code",
   "execution_count": 36,
   "id": "35d0ad18-3d89-478c-8b5f-26a66d32a33d",
   "metadata": {},
   "outputs": [
    {
     "name": "stdout",
     "output_type": "stream",
     "text": [
      "25\n"
     ]
    }
   ],
   "source": [
    "# Lambda Functions and Higher-Order Functions:\n",
    "# 1.What are lambda functions in Python, and when are they typically used?\n",
    "# Lambda functions in Python, also known as anonymous functions, are small, unnamed functions that are defined using the lambda keyword. They are typically used when you need a simple function for a short period of time and don't want to go through the process of defining a formal function using the def keyword. Lambda functions have the following characteristics:\n",
    "# Anonymous: Lambda functions are anonymous because they don't have a name like regular functions defined using def.\n",
    "# Single Expression: Lambda functions can only contain a single expression, and the result of that expression is implicitly returned.\n",
    "# Short and Concise: They are typically used for short and simple operations, often in situations where a full function definition would be overkill.\n",
    "# The syntax for a lambda function is as follows:\n",
    "square = lambda x: x ** 2\n",
    "print(square(5))  # Output: 25\n",
    "\n"
   ]
  },
  {
   "cell_type": "code",
   "execution_count": 37,
   "id": "1f3af7ca-0505-4954-b430-b6566a59873d",
   "metadata": {},
   "outputs": [],
   "source": [
    "# Passing Functions as Arguments: Lambda functions are often used as arguments to higher-order functions like map(), filter(), and sorted() to define simple operations.\n",
    "\n",
    "# Example using map():\n",
    "numbers = [1, 2, 3, 4, 5]\n",
    "squared_numbers = list(map(lambda x: x ** 2, numbers))\n"
   ]
  },
  {
   "cell_type": "code",
   "execution_count": 38,
   "id": "c91de706-f204-47c4-8154-ef593c2e54c9",
   "metadata": {},
   "outputs": [],
   "source": [
    "# Sorting: You can use lambda functions to define custom sorting criteria when sorting lists of objects.\n",
    "\n",
    "# Example using sorted():\n",
    "students = [(\"Alice\", 25), (\"Bob\", 18), (\"Charlie\", 30)]\n",
    "sorted_students = sorted(students, key=lambda student: student[1])\n"
   ]
  },
  {
   "cell_type": "code",
   "execution_count": 39,
   "id": "60d0d3b9-c7c5-4c2e-92ea-68171ec387ed",
   "metadata": {},
   "outputs": [],
   "source": [
    "# Filtering: Lambda functions can be used with the filter() function to filter elements from an iterable based on a condition.\n",
    "\n",
    "# Example using filter():\n",
    "numbers = [1, 2, 3, 4, 5, 6, 7, 8, 9, 10]\n",
    "even_numbers = list(filter(lambda x: x % 2 == 0, numbers))\n"
   ]
  },
  {
   "cell_type": "code",
   "execution_count": 41,
   "id": "ca94f1f8-376d-4d4f-8f11-2781dd2add5a",
   "metadata": {},
   "outputs": [
    {
     "name": "stdout",
     "output_type": "stream",
     "text": [
      "('Bob', 18)\n",
      "('David', 22)\n",
      "('Alice', 25)\n",
      "('Charlie', 30)\n"
     ]
    }
   ],
   "source": [
    "# 2.Write a Python program that uses lambda functions to sort a list of tuples based on the second element.\n",
    "# List of tuples\n",
    "students = [(\"Alice\", 25), (\"Bob\", 18), (\"Charlie\", 30), (\"David\", 22)]\n",
    "\n",
    "# Sort the list based on the second element of each tuple (i.e., age)\n",
    "sorted_students = sorted(students, key=lambda student: student[1])\n",
    "\n",
    "# Print the sorted list\n",
    "for student in sorted_students:\n",
    "    print(student)\n"
   ]
  },
  {
   "cell_type": "code",
   "execution_count": 42,
   "id": "478f2219-abac-4303-bc8e-a9b6f300aee6",
   "metadata": {},
   "outputs": [
    {
     "name": "stdout",
     "output_type": "stream",
     "text": [
      "8\n",
      "6\n",
      "12\n",
      "4.0\n"
     ]
    }
   ],
   "source": [
    "# 3.Explain the concept of higher-order functions in Python, and provide an example.\n",
    "def apply_operation(x, y, operation):\n",
    "    \"\"\"Applies the specified operation to two numbers.\"\"\"\n",
    "    return operation(x, y)\n",
    "\n",
    "def add(a, b):\n",
    "    \"\"\"Adds two numbers.\"\"\"\n",
    "    return a + b\n",
    "\n",
    "def subtract(a, b):\n",
    "    \"\"\"Subtracts one number from another.\"\"\"\n",
    "    return a - b\n",
    "\n",
    "def multiply(a, b):\n",
    "    \"\"\"Multiplies two numbers.\"\"\"\n",
    "    return a * b\n",
    "\n",
    "def divide(a, b):\n",
    "    \"\"\"Divides one number by another.\"\"\"\n",
    "    if b == 0:\n",
    "        return \"Division by zero is not allowed.\"\n",
    "    return a / b\n",
    "\n",
    "# Example usage of the higher-order function\n",
    "result1 = apply_operation(5, 3, add)       # Result: 5 + 3 = 8\n",
    "result2 = apply_operation(10, 4, subtract)  # Result: 10 - 4 = 6\n",
    "result3 = apply_operation(6, 2, multiply)  # Result: 6 * 2 = 12\n",
    "result4 = apply_operation(8, 2, divide)    # Result: 8 / 2 = 4.0\n",
    "\n",
    "print(result1)\n",
    "print(result2)\n",
    "print(result3)\n",
    "print(result4)\n"
   ]
  },
  {
   "cell_type": "code",
   "execution_count": 43,
   "id": "b72b352d-e9d8-4f5d-a8c1-0bfdd59022b5",
   "metadata": {},
   "outputs": [
    {
     "name": "stdout",
     "output_type": "stream",
     "text": [
      "Original numbers: [1, 2, 3, 4, 5]\n",
      "Squared numbers: [1, 4, 9, 16, 25]\n",
      "Doubled numbers: [2, 4, 6, 8, 10]\n",
      "Incremented numbers: [2, 3, 4, 5, 6]\n"
     ]
    }
   ],
   "source": [
    "# 4.Create a Python function that takes a list of numbers and a function as arguments, applying the function to each element in the list.\n",
    "def apply_function_to_list(numbers, func):\n",
    "    \"\"\"Applies the specified function to each element in the list.\"\"\"\n",
    "    result = []\n",
    "    for number in numbers:\n",
    "        result.append(func(number))\n",
    "    return result\n",
    "\n",
    "# Example functions to apply\n",
    "def square(x):\n",
    "    \"\"\"Squares a number.\"\"\"\n",
    "    return x ** 2\n",
    "\n",
    "def double(x):\n",
    "    \"\"\"Doubles a number.\"\"\"\n",
    "    return x * 2\n",
    "\n",
    "def increment(x):\n",
    "    \"\"\"Increments a number by 1.\"\"\"\n",
    "    return x + 1\n",
    "\n",
    "# List of numbers\n",
    "numbers = [1, 2, 3, 4, 5]\n",
    "\n",
    "# Apply the functions to the list of numbers\n",
    "squared_numbers = apply_function_to_list(numbers, square)\n",
    "doubled_numbers = apply_function_to_list(numbers, double)\n",
    "incremented_numbers = apply_function_to_list(numbers, increment)\n",
    "\n",
    "# Print the results\n",
    "print(\"Original numbers:\", numbers)\n",
    "print(\"Squared numbers:\", squared_numbers)\n",
    "print(\"Doubled numbers:\", doubled_numbers)\n",
    "print(\"Incremented numbers:\", incremented_numbers)\n",
    " "
   ]
  },
  {
   "cell_type": "code",
   "execution_count": 45,
   "id": "5e7cf1ff-2a8f-4d91-a89f-d3d2531e8b24",
   "metadata": {},
   "outputs": [],
   "source": [
    "# Built-in Functions:\n",
    "# 1.Describe the role of built-in functions like `len()`, `max()`, and `min()` in Python.\n",
    "# len(iterable):\n",
    "# The len() function is used to determine the number of elements in an iterable, such as a string, list, tuple, or dictionary.\n",
    "# It returns the count of items within the given iterable.\n",
    "# Example:\n",
    "text = \"Hello, World!\"\n",
    "length = len(text)  # Returns 13, as there are 13 characters in the string\n"
   ]
  },
  {
   "cell_type": "code",
   "execution_count": 46,
   "id": "9b49831f-80e8-4d66-a1ae-6ee893191098",
   "metadata": {},
   "outputs": [],
   "source": [
    "# max(iterable[, key[, default]]):\n",
    "\n",
    "# The max() function is used to find the maximum element in an iterable, or the maximum of two or more values.\n",
    "\n",
    "# It can optionally take a key function, which specifies a custom comparison key for finding the maximum value. The key function is applied to each element in the iterable to determine the maximum based on a custom criterion.\n",
    "\n",
    "# Example:\n",
    "numbers = [5, 3, 8, 1, 7]\n",
    "max_num = max(numbers)  # Returns 8, the maximum value in the list\n"
   ]
  },
  {
   "cell_type": "code",
   "execution_count": 47,
   "id": "a121904e-6d09-4950-b6a1-bc61a116d572",
   "metadata": {},
   "outputs": [],
   "source": [
    "# min(iterable[, key[, default]]):\n",
    "\n",
    "# The min() function is used to find the minimum element in an iterable, or the minimum of two or more values.\n",
    "\n",
    "# Similar to max(), it can take a key function to determine the minimum based on a custom criterion.\n",
    "\n",
    "# Example:\n",
    "numbers = [5, 3, 8, 1, 7]\n",
    "min_num = min(numbers)  # Returns 1, the minimum value in the list\n"
   ]
  },
  {
   "cell_type": "code",
   "execution_count": 48,
   "id": "898ce95f-20aa-476a-a5a2-51fb8b66e9c0",
   "metadata": {},
   "outputs": [
    {
     "name": "stdout",
     "output_type": "stream",
     "text": [
      "Original numbers: [1, 2, 3, 4, 5]\n",
      "Squared numbers: [1, 4, 9, 16, 25]\n"
     ]
    }
   ],
   "source": [
    "# 2.Write a Python program that uses the `map()` function to apply a function to each element of a list.\n",
    "# Define a function to square a number\n",
    "def square(x):\n",
    "    return x ** 2\n",
    "\n",
    "# List of numbers\n",
    "numbers = [1, 2, 3, 4, 5]\n",
    "\n",
    "# Use the map() function to apply the square function to each element of the list\n",
    "squared_numbers = list(map(square, numbers))\n",
    "\n",
    "# Print the squared numbers\n",
    "print(\"Original numbers:\", numbers)\n",
    "print(\"Squared numbers:\", squared_numbers)\n"
   ]
  },
  {
   "cell_type": "code",
   "execution_count": 49,
   "id": "c6e6fbe1-ba81-4963-b07a-781a7c4a64ca",
   "metadata": {},
   "outputs": [
    {
     "name": "stdout",
     "output_type": "stream",
     "text": [
      "Original numbers: [1, 2, 3, 4, 5, 6, 7, 8, 9, 10]\n",
      "Even numbers: [2, 4, 6, 8, 10]\n"
     ]
    }
   ],
   "source": [
    "# 3.How does the `filter()` function work in Python, and when would you use it?\n",
    "# function: This is a function or a lambda function that defines the condition used for filtering. It takes an element from the iterable as an argument and should return True or False to indicate whether the element should be included in the result.\n",
    "\n",
    "# iterable: This is the iterable (e.g., a list) from which elements are filtered.\n",
    "\n",
    "# The filter() function returns a filter object, which is an iterable containing the elements that meet the specified condition. To convert the filter object to a list or another iterable, you can use the list() function.\n",
    "\n",
    "# Here's an example of how the filter() function works:\n",
    "# Define a function to filter even numbers\n",
    "def is_even(x):\n",
    "    return x % 2 == 0\n",
    "\n",
    "# List of numbers\n",
    "numbers = [1, 2, 3, 4, 5, 6, 7, 8, 9, 10]\n",
    "\n",
    "# Use the filter() function to filter even numbers from the list\n",
    "even_numbers = list(filter(is_even, numbers))\n",
    "\n",
    "# Print the even numbers\n",
    "print(\"Original numbers:\", numbers)\n",
    "print(\"Even numbers:\", even_numbers)\n"
   ]
  },
  {
   "cell_type": "code",
   "execution_count": 50,
   "id": "50ffec57-6166-4867-be37-fce76a0b2535",
   "metadata": {},
   "outputs": [
    {
     "name": "stdout",
     "output_type": "stream",
     "text": [
      "Numbers: [1, 2, 3, 4, 5]\n",
      "Product: 120\n"
     ]
    }
   ],
   "source": [
    "# 4.Create a Python program that uses the `reduce()` function to find the product of all elements in a list.\n",
    "from functools import reduce\n",
    "\n",
    "# Define a function to multiply two numbers\n",
    "def multiply(x, y):\n",
    "    return x * y\n",
    "\n",
    "# List of numbers\n",
    "numbers = [1, 2, 3, 4, 5]\n",
    "\n",
    "# Use the reduce() function to find the product of all elements in the list\n",
    "product = reduce(multiply, numbers)\n",
    "\n",
    "# Print the product\n",
    "print(\"Numbers:\", numbers)\n",
    "print(\"Product:\", product)\n"
   ]
  },
  {
   "cell_type": "code",
   "execution_count": 51,
   "id": "5d0d08f7-6e00-4e82-93b2-98e5a5488ea4",
   "metadata": {},
   "outputs": [],
   "source": [
    "# Function Documentation and Best Practices:\n",
    "# 1.Explain the purpose of docstrings in Python functions and how to write them.\n",
    "# Here's why docstrings are useful and how to write them:\n",
    "# Documentation: Docstrings provide a clear and concise way to document your functions. They help both developers who write the code and those who use it to understand the function's purpose and how to use it.\n",
    "# Readability: Well-written docstrings make your code more readable. When someone reads your code or uses your function, they can easily access the documentation to understand its behavior.\n",
    "# Auto-Generated Documentation: Docstrings can be processed by documentation generation tools like Sphinx to automatically generate documentation for your code.\n",
    "# Interactive Help: In interactive environments like Jupyter Notebook or an interactive Python shell, you can use the help() function to access a function's docstring interactively.\n",
    "# Here's how to write docstrings in Python functions:\n",
    "def my_function(arg1, arg2):\n",
    "    \"\"\"\n",
    "    This is the docstring for my_function.\n",
    "\n",
    "    Parameters:\n",
    "    arg1 (int): The first argument.\n",
    "    arg2 (str): The second argument.\n",
    "\n",
    "    Returns:\n",
    "    float: The result of some computation.\n",
    "    \"\"\"\n",
    "    # Function code here\n",
    "    pass\n"
   ]
  },
  {
   "cell_type": "code",
   "execution_count": 52,
   "id": "caf1aabc-207b-46f8-91d4-5929ebcd2572",
   "metadata": {},
   "outputs": [],
   "source": [
    "# 2.Describe some best practices for naming functions and variables in Python, including naming conventions and guidelines.\n",
    "# 1. Use Descriptive Names:\n",
    "# Choose names that clearly and concisely describe the purpose and functionality of the function or variable.\n",
    "# Use meaningful words or phrases that make it evident what the entity does.\n",
    "# Avoid single-letter variable names or overly generic names.\n",
    "# 2. Follow PEP 8:\n",
    "\n",
    "# PEP 8 is the Python Enhancement Proposal that provides style guidelines for writing clean and readable code in Python. Follow its recommendations for naming conventions.\n",
    "# Function names should be lowercase with words separated by underscores (snake_case).\n",
    "# Variable names should also be lowercase with words separated by underscores (snake_case).\n",
    "# Constants (e.g., global variables) should be uppercase with underscores (CAPS_WITH_UNDERSCORES).\n",
    "# 3. Use Verb-Noun Naming for Functions:\n",
    "\n",
    "# Function names should typically start with a verb that describes the action performed by the function, followed by a noun or a descriptive phrase.\n",
    "# For example: calculate_total, read_file, validate_input.\n",
    "# 4. Be Consistent:\n",
    "\n",
    "# Maintain consistency in your naming conventions throughout your codebase. If you start with one convention, stick with it.\n",
    "# Consistency makes it easier for others to understand your code.\n",
    "# 5. Avoid Ambiguous Abbreviations:\n",
    "\n",
    "# Avoid using abbreviations that are not universally recognized or that may be unclear to others.\n",
    "# If you use an abbreviation, make sure it's well-known in the context of your code (e.g., num for \"number\").\n",
    "# 6. Use Function and Variable Names that are Self-Explanatory:\n",
    "\n",
    "# Ideally, the name of a function or variable should provide enough information to understand its purpose without needing to refer to extensive documentation or comments.\n",
    "# 7. Consider Scope:\n",
    "\n",
    "# Use variable names that indicate their scope. For example, use different names for local variables, function parameters, and global variables.\n",
    "# 8. Avoid Reserved Words:\n",
    "\n",
    "# Do not use Python's reserved words (keywords) as function or variable names. For example, avoid using names like class, for, while, if, etc.\n",
    "# 9. Meaningful Function Parameter Names:\n",
    "\n",
    "# When defining function parameters, use meaningful names that convey the purpose of each parameter.\n",
    "# Use default values or keyword arguments to make some parameters optional, rather than relying on None.\n",
    "# 10. Refactor as Needed:\n",
    "# - If you find that a function or variable name is no longer accurate or descriptive due to changes in the code, take the time to refactor the name.\n",
    "\n",
    "# 11. Use Comments Sparingly:\n",
    "# - While it's important to write clear code, avoid using comments to compensate for unclear or non-descriptive variable or function names. Instead, improve the names themselves.\n",
    "\n",
    "# 12. Be Mindful of Case Sensitivity:\n",
    "# - Python is case-sensitive, so my_variable and My_Variable are considered different entities.\n",
    "# - Be consistent with your casing and use conventions like snake_case for functions and variables.\n",
    "\n",
    "# By following these best practices, you can write Python code that is more readable, maintainable, and easier for you and others to understand and work with.\n",
    "\n",
    "\n",
    "\n",
    "\n",
    "\n"
   ]
  },
  {
   "cell_type": "code",
   "execution_count": null,
   "id": "f5db97f6-58ee-4e5d-8edb-07f9969a5f48",
   "metadata": {},
   "outputs": [],
   "source": []
  }
 ],
 "metadata": {
  "kernelspec": {
   "display_name": "Python 3 (ipykernel)",
   "language": "python",
   "name": "python3"
  },
  "language_info": {
   "codemirror_mode": {
    "name": "ipython",
    "version": 3
   },
   "file_extension": ".py",
   "mimetype": "text/x-python",
   "name": "python",
   "nbconvert_exporter": "python",
   "pygments_lexer": "ipython3",
   "version": "3.10.8"
  }
 },
 "nbformat": 4,
 "nbformat_minor": 5
}
